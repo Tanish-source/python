{
 "cells": [
  {
   "cell_type": "code",
   "execution_count": 11,
   "metadata": {},
   "outputs": [
    {
     "name": "stdout",
     "output_type": "stream",
     "text": [
      "enter number (enter stop or -1 for exit) : -1\n",
      "even value does not exist\n",
      "odd value does not exist\n"
     ]
    }
   ],
   "source": [
    "even_sum=None\n",
    "even_max=None\n",
    "even_min=None\n",
    "even_count=0\n",
    "odd_sum=None\n",
    "odd_max=None\n",
    "odd_min=None\n",
    "odd_count=0\n",
    "while True :\n",
    "    num=eval(input(\"enter number (enter stop or -1 for exit) : \"))\n",
    "    if num=='stop' or num<=0 :\n",
    "        break\n",
    "    else :\n",
    "        if num%2==0 :\n",
    "            even_sum=num if even_sum==None else even_sum+num\n",
    "            even_min=num if (even_min==None or num<even_min) else even_min\n",
    "            even_max=num if (even_max==None or num>even_max) else even_max\n",
    "            even_count+=1\n",
    "        else :\n",
    "            odd_sum=num if odd_sum==None else odd_sum+num\n",
    "            odd_min=num if (odd_min==None or num<odd_min) else odd_min\n",
    "            odd_max=num if (odd_max==None or num>odd_max) else odd_max\n",
    "            odd_count+=1\n",
    "            \n",
    "if even_count>0 :\n",
    "    print(\"even max : \",even_max)\n",
    "    print(\"even min : \",even_min)\n",
    "    print(\"sum of even number : \",even_sum)\n",
    "else :\n",
    "    print(\"even value does not exist\")\n",
    "    \n",
    "if odd_count>0 :\n",
    "    print(\"odd max : \",odd_max)\n",
    "    print(\"odd min : \",odd_min)\n",
    "    print(\"sum of odd number : \",odd_sum)\n",
    "else :\n",
    "    print(\"odd value does not exist\")"
   ]
  },
  {
   "cell_type": "markdown",
   "metadata": {},
   "source": [
    "# wap to find wether a given number is an armstrong or not"
   ]
  },
  {
   "cell_type": "code",
   "execution_count": 15,
   "metadata": {},
   "outputs": [
    {
     "name": "stdout",
     "output_type": "stream",
     "text": [
      "enter a number : 8208\n",
      "entered number is an armstrong number.\n"
     ]
    }
   ],
   "source": [
    "num=int(input(\"enter a number : \"))\n",
    "temp=num\n",
    "a=num\n",
    "count=0\n",
    "sum=0\n",
    "\n",
    "while a>0 :\n",
    "    a=a//10\n",
    "    count+=1\n",
    "while temp>0 :\n",
    "    r=temp%10\n",
    "    sum=sum+(r**count)\n",
    "    temp=temp//10\n",
    "if sum==num :\n",
    "    print(\"entered number is an armstrong number.\")\n",
    "else :\n",
    "    print(\"entered number is not an armstrong number.\")"
   ]
  },
  {
   "cell_type": "code",
   "execution_count": 17,
   "metadata": {},
   "outputs": [
    {
     "name": "stdout",
     "output_type": "stream",
     "text": [
      "1  is an armstrong number.\n",
      "2  is an armstrong number.\n",
      "3  is an armstrong number.\n",
      "4  is an armstrong number.\n",
      "5  is an armstrong number.\n",
      "6  is an armstrong number.\n",
      "7  is an armstrong number.\n",
      "8  is an armstrong number.\n",
      "9  is an armstrong number.\n"
     ]
    }
   ],
   "source": [
    "for num in range(1,10) :\n",
    "    temp=num\n",
    "    a=num\n",
    "    count=0\n",
    "    sum=0\n",
    "\n",
    "    while a>0 :\n",
    "        a=a//10\n",
    "        count+=1\n",
    "    while temp>0 :\n",
    "        r=temp%10\n",
    "        sum=sum+(r**count)\n",
    "        temp=temp//10\n",
    "    if sum==num :\n",
    "        print(num,\" is an armstrong number.\")\n",
    "    else :\n",
    "        print(num,\" is not an armstrong number.\")"
   ]
  },
  {
   "cell_type": "markdown",
   "metadata": {},
   "source": [
    "# wap to find a factorial of a given number"
   ]
  },
  {
   "cell_type": "code",
   "execution_count": 20,
   "metadata": {},
   "outputs": [
    {
     "name": "stdout",
     "output_type": "stream",
     "text": [
      "enter a number : 5\n",
      "factorial of a number :  120\n"
     ]
    }
   ],
   "source": [
    "num=int(input(\"enter a number : \"))\n",
    "fact=1\n",
    "sum=1\n",
    "if num<=0 :\n",
    "    print(\"invalid number\")\n",
    "else :\n",
    "    while fact<=num :\n",
    "        sum=sum*fact\n",
    "        fact+=1\n",
    "    print(\"factorial of a number : \",sum)"
   ]
  },
  {
   "cell_type": "markdown",
   "metadata": {},
   "source": [
    "# wap to find trailing zeros for factorial of any given numbers. "
   ]
  },
  {
   "cell_type": "code",
   "execution_count": 7,
   "metadata": {},
   "outputs": [
    {
     "name": "stdout",
     "output_type": "stream",
     "text": [
      "enter a number : 15\n",
      "factorial of a number :  1307674368000\n",
      "3\n",
      "3\n"
     ]
    }
   ],
   "source": [
    "num=int(input(\"enter a number : \"))\n",
    "fact=1\n",
    "sum=1\n",
    "count=0\n",
    "if num<=0 :\n",
    "    print(\"invalid number\")\n",
    "else :\n",
    "    while fact<=num :\n",
    "        sum=sum*fact\n",
    "        fact+=1\n",
    "    print(\"factorial of a number : \",sum)\n",
    "    \n",
    "temp=sum\n",
    "while temp>0 :\n",
    "    r=temp%10\n",
    "    temp=temp//10\n",
    "    if r==0 :\n",
    "        count+=1\n",
    "    else :\n",
    "        break\n",
    "print(count)\n",
    "\n",
    "# OR\n",
    "\n",
    "x=num//5\n",
    "y=x\n",
    "while x>0 :\n",
    "    x=x/5\n",
    "    y+=int(x)\n",
    "print(y)"
   ]
  },
  {
   "cell_type": "markdown",
   "metadata": {},
   "source": [
    "# wap to find the multiplication of two given values, it should display overflow if the number of digits is grater than 10."
   ]
  },
  {
   "cell_type": "code",
   "execution_count": null,
   "metadata": {},
   "outputs": [],
   "source": [
    "num1=int(input(\"enter number - 1 : \"))\n",
    "num2=int(input(\"enter number - 2 : \"))\n",
    "sum = num1*num2\n",
    "if sum>=10**10 and num1>=10**10 and num2>=10**10:\n",
    "    print(\"overflow\")\n",
    "else :\n",
    "    print(sum)"
   ]
  },
  {
   "cell_type": "markdown",
   "metadata": {},
   "source": [
    "# wap to fetch ten subject marks of a student out of hundered , if user enter marks grater than 100 the input bar should be display again to enter marks.\n",
    "# 1)highest marks\n",
    "# 2)lowest marks\n",
    "# 3)second highest marks\n",
    "# 4)overall average\n",
    "# 5)average deducting lowest 2 scores"
   ]
  },
  {
   "cell_type": "code",
   "execution_count": 2,
   "metadata": {},
   "outputs": [
    {
     "name": "stdout",
     "output_type": "stream",
     "text": [
      "enter marks of subject 1 : 1\n",
      "enter marks of subject 2 : 2\n",
      "enter marks of subject 3 : 3\n",
      "enter marks of subject 4 : 4\n",
      "enter marks of subject 5 : 5\n",
      "enter marks of subject 6 : 6\n",
      "enter marks of subject 7 : 7\n",
      "enter marks of subject 8 : 8\n",
      "enter marks of subject 9 : 9\n",
      "enter marks of subject 10 : 10\n",
      "overall_average :  0.5045871559633027\n",
      "heighest_marks :  10\n",
      "lowest_marks :  1\n",
      "second_heighest :  9\n",
      "2\n",
      "overall_average after deducting 2 lowest :  6.5\n"
     ]
    }
   ],
   "source": [
    "i=1\n",
    "sum=0\n",
    "heighest_marks=None\n",
    "lowest_marks=None\n",
    "second_heighest=0\n",
    "lowest_marks1=None\n",
    "lowest_marks2=None\n",
    "overall_average=0\n",
    "overall_average_deducting=0\n",
    "while i!=11 :\n",
    "    marks=int(input(f\"enter marks of subject {i} : \"))\n",
    "    if marks>100 or marks<0 :\n",
    "        print(\"Invalid marks please reenter!!\")\n",
    "        continue\n",
    "    else :\n",
    "        if (heighest_marks==None or marks>heighest_marks) :\n",
    "            second_heighest=heighest_marks\n",
    "            heighest_marks=marks\n",
    "        elif second_heighest==None or marks>second_heighest :\n",
    "            second_heighest=marks\n",
    "        if (lowest_marks==None or marks<lowest_marks) :\n",
    "            lowest_marks=marks\n",
    "        if (lowest_marks1==None or marks<lowest_marks1) :\n",
    "            lowest_marks2=lowest_marks1\n",
    "            lowest_marks1=marks\n",
    "        elif (lowest_marks2==None or marks<lowest_marks2) :\n",
    "            lowest_marks2=marks\n",
    "        i+=1\n",
    "        sum+=marks\n",
    "overall_average=sum/109\n",
    "\n",
    "print(\"overall_average : \",overall_average)\n",
    "print(\"heighest_marks : \",heighest_marks)\n",
    "print(\"lowest_marks : \",lowest_marks)\n",
    "print(\"second_heighest : \",second_heighest)\n",
    "print(lowest_marks2)\n",
    "sum=sum-(lowest_marks1+lowest_marks2)\n",
    "overall_average_deducting=sum/8\n",
    "print(\"overall_average after deducting 2 lowest : \",overall_average_deducting)"
   ]
  },
  {
   "cell_type": "markdown",
   "metadata": {},
   "source": [
    "# wap to print numbers 1 to 50 . it should print buzz if a number is divisible by 3 , it should print fizz if the number is divisible by 5 , it should print fizzbuzz if it is divisible by both."
   ]
  },
  {
   "cell_type": "code",
   "execution_count": 6,
   "metadata": {},
   "outputs": [
    {
     "name": "stdout",
     "output_type": "stream",
     "text": [
      "1 2 buzz 4 fizz buzz 7 8 buzz fizz 11 buzz 13 14 fizzbuzz 16 17 buzz 19 fizz buzz 22 23 buzz fizz 26 buzz 28 29 fizzbuzz 31 32 buzz 34 fizz buzz 37 38 buzz fizz 41 buzz 43 44 fizzbuzz 46 47 buzz 49 fizz "
     ]
    }
   ],
   "source": [
    "for i in range(1,51) :\n",
    "    if i%3==0 and i%5==0:\n",
    "        print(\"fizzbuzz\",end=\" \")\n",
    "    elif i%3==0 :\n",
    "        print(\"buzz\",end=\" \")\n",
    "    elif i%5==0 :\n",
    "        print(\"fizz\",end=\" \")\n",
    "    else :\n",
    "        print(i,end=\" \")"
   ]
  },
  {
   "cell_type": "markdown",
   "metadata": {},
   "source": [
    "# wap to encrypt a numeric code. the encrypted code should be created such that it has an increment of 1 in inch digit"
   ]
  },
  {
   "cell_type": "code",
   "execution_count": 5,
   "metadata": {},
   "outputs": [
    {
     "name": "stdout",
     "output_type": "stream",
     "text": [
      "enter your encrypt msg : 999\n",
      "0\n"
     ]
    }
   ],
   "source": [
    "num=int(input(\"enter your encrypt msg : \"))\n",
    "count=0\n",
    "if num>0 :\n",
    "    temp=num\n",
    "    encoded_num=0\n",
    "    position=1\n",
    "    while temp>0 :\n",
    "        digit=temp%10\n",
    "        if digit==9 :\n",
    "            encoded_digit=0\n",
    "        else :\n",
    "            encoded_digit=digit+1\n",
    "        encoded_num+=encoded_digit*position\n",
    "        temp//=10\n",
    "        position*=10\n",
    "    print(encoded_num)\n",
    "else :\n",
    "    print(\"enter positive number\")"
   ]
  }
 ],
 "metadata": {
  "kernelspec": {
   "display_name": "Python 3",
   "language": "python",
   "name": "python3"
  },
  "language_info": {
   "codemirror_mode": {
    "name": "ipython",
    "version": 3
   },
   "file_extension": ".py",
   "mimetype": "text/x-python",
   "name": "python",
   "nbconvert_exporter": "python",
   "pygments_lexer": "ipython3",
   "version": "3.8.5"
  }
 },
 "nbformat": 4,
 "nbformat_minor": 4
}
