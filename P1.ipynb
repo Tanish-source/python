{
 "cells": [
  {
   "cell_type": "code",
   "execution_count": 20,
   "metadata": {},
   "outputs": [
    {
     "name": "stdout",
     "output_type": "stream",
     "text": [
      "['False', 'None', 'True', 'and', 'as', 'assert', 'async', 'await', 'break', 'class', 'continue', 'def', 'del', 'elif', 'else', 'except', 'finally', 'for', 'from', 'global', 'if', 'import', 'in', 'is', 'lambda', 'nonlocal', 'not', 'or', 'pass', 'raise', 'return', 'try', 'while', 'with', 'yield']\n",
      "35\n"
     ]
    },
    {
     "data": {
      "text/plain": [
       "int"
      ]
     },
     "execution_count": 20,
     "metadata": {},
     "output_type": "execute_result"
    }
   ],
   "source": [
    "import keyword\n",
    "print(keyword.kwlist)\n",
    "print(len(keyword.kwlist))\n",
    "python_123=100\n",
    "type(python_123)"
   ]
  },
  {
   "cell_type": "code",
   "execution_count": 26,
   "metadata": {},
   "outputs": [
    {
     "name": "stdout",
     "output_type": "stream",
     "text": [
      "<class 'int'>\n",
      "16807\n",
      "<class 'float'>\n"
     ]
    }
   ],
   "source": [
    "a=7\n",
    "b=5\n",
    "print(type(a//b))\n",
    "print(a**b)\n",
    "print(type(a/b))"
   ]
  },
  {
   "cell_type": "code",
   "execution_count": 28,
   "metadata": {},
   "outputs": [
    {
     "name": "stdout",
     "output_type": "stream",
     "text": [
      "tanishtanishtanishtanishtanishtanish\n"
     ]
    }
   ],
   "source": [
    "a='tanish'\n",
    "b=6\n",
    "print(a*b)"
   ]
  },
  {
   "cell_type": "code",
   "execution_count": 32,
   "metadata": {},
   "outputs": [
    {
     "name": "stdout",
     "output_type": "stream",
     "text": [
      "65\n",
      "32\n",
      " \n"
     ]
    }
   ],
   "source": [
    "print(ord('A'))\n",
    "print(ord(' '))\n",
    "print(chr(32))"
   ]
  },
  {
   "cell_type": "markdown",
   "metadata": {},
   "source": [
    "# Assignment Operator"
   ]
  },
  {
   "cell_type": "code",
   "execution_count": 2,
   "metadata": {},
   "outputs": [
    {
     "name": "stdout",
     "output_type": "stream",
     "text": [
      "pass\n"
     ]
    }
   ],
   "source": [
    "marks= int(input(\"enter your mark : \"))\n",
    "result='pass' if marks>35  else 'fail'\n",
    "print(result)"
   ]
  },
  {
   "cell_type": "code",
   "execution_count": 10,
   "metadata": {},
   "outputs": [
    {
     "data": {
      "text/plain": [
       "str"
      ]
     },
     "execution_count": 10,
     "metadata": {},
     "output_type": "execute_result"
    }
   ],
   "source": [
    "name=input(\"enter your name : \")\n",
    "type(input())"
   ]
  },
  {
   "cell_type": "code",
   "execution_count": 15,
   "metadata": {},
   "outputs": [
    {
     "data": {
      "text/plain": [
       "int"
      ]
     },
     "execution_count": 15,
     "metadata": {},
     "output_type": "execute_result"
    }
   ],
   "source": [
    "a=eval(input(\"enter a number : \"))\n",
    "type(a)"
   ]
  },
  {
   "cell_type": "code",
   "execution_count": 18,
   "metadata": {},
   "outputs": [
    {
     "name": "stdout",
     "output_type": "stream",
     "text": [
      "the sum of two numbers is :  20\n"
     ]
    }
   ],
   "source": [
    "print('the sum of two numbers is : ',int(input(\"enter the value of a : \"))+int(input(\"enter the value of b : \")))"
   ]
  },
  {
   "cell_type": "code",
   "execution_count": 27,
   "metadata": {},
   "outputs": [
    {
     "name": "stdout",
     "output_type": "stream",
     "text": [
      "10 20 30\n",
      "10/20/30\n",
      "102030\n",
      "the value of a is : 10\n",
      "the value of b is : 20\n",
      "the value of c is : 30\n",
      "\n",
      "the value of a is : 30\n",
      "the value of b is : 20\n",
      "the value of c is : 10\n",
      "\n",
      "the value of a is : 30\n",
      "the value of b is : 20\n",
      "the value of c is : 10\n",
      "\n",
      "the value of a is : 10\n",
      "the value of b is : 20\n",
      "the value of c is : 30\n"
     ]
    }
   ],
   "source": [
    "a,b,c=10,20,30\n",
    "print(a,b,c)\n",
    "print(a,b,c,sep='/')\n",
    "print(a,end='')\n",
    "print(b,end='')\n",
    "print(c)\n",
    "print(\"the value of a is : {}\\nthe value of b is : {}\\nthe value of c is : {}\".format(a,b,c))\n",
    "print()\n",
    "print(\"the value of a is : {2}\\nthe value of b is : {1}\\nthe value of c is : {0}\".format(a,b,c))\n",
    "print()\n",
    "print(\"the value of a is : {z}\\nthe value of b is : {y}\\nthe value of c is : {x}\".format(x=a,y=b,z=c))\n",
    "print()\n",
    "print(f\"the value of a is : {a}\\nthe value of b is : {b}\\nthe value of c is : {c}\")"
   ]
  },
  {
   "cell_type": "markdown",
   "metadata": {},
   "source": [
    "# Multiline Comment"
   ]
  },
  {
   "cell_type": "code",
   "execution_count": 29,
   "metadata": {},
   "outputs": [
    {
     "data": {
      "text/plain": [
       "'dfjfvgdbfjhvb dfhcvbdhcjhjdsdchdjiufvfeiduvfc hcufhvffvcfbvbieubvn jvnmdx'"
      ]
     },
     "execution_count": 29,
     "metadata": {},
     "output_type": "execute_result"
    }
   ],
   "source": [
    "'''dfjfvgdbfjhvb dfhcvbdhcjhjdsdchdjiufvfeiduvfc hcufhvffvcfbvbieubvn jvnmdx'''"
   ]
  },
  {
   "cell_type": "markdown",
   "metadata": {},
   "source": [
    "# Binary Storage"
   ]
  },
  {
   "cell_type": "code",
   "execution_count": 30,
   "metadata": {},
   "outputs": [
    {
     "name": "stdout",
     "output_type": "stream",
     "text": [
      "10\n"
     ]
    }
   ],
   "source": [
    "a=0b1010\n",
    "print(a)"
   ]
  },
  {
   "cell_type": "markdown",
   "metadata": {},
   "source": [
    "\n",
    "# Octal Storage"
   ]
  },
  {
   "cell_type": "code",
   "execution_count": 31,
   "metadata": {},
   "outputs": [
    {
     "name": "stdout",
     "output_type": "stream",
     "text": [
      "1857\n"
     ]
    }
   ],
   "source": [
    "b=0o3501\n",
    "print(b)"
   ]
  },
  {
   "cell_type": "markdown",
   "metadata": {},
   "source": [
    "# Hexa Storage"
   ]
  },
  {
   "cell_type": "code",
   "execution_count": 32,
   "metadata": {},
   "outputs": [
    {
     "name": "stdout",
     "output_type": "stream",
     "text": [
      "64206\n"
     ]
    }
   ],
   "source": [
    "c=0xface\n",
    "print(c)"
   ]
  },
  {
   "cell_type": "markdown",
   "metadata": {},
   "source": [
    "# Q1 : wap to fing area and surcamp france of a circle created by the apexes of a triangle which is equilitral having 5 cm size."
   ]
  },
  {
   "cell_type": "code",
   "execution_count": 35,
   "metadata": {},
   "outputs": [
    {
     "name": "stdout",
     "output_type": "stream",
     "text": [
      "surcamp france of circle :  18.13799364234218\n",
      "area of circle : 26.18\n"
     ]
    }
   ],
   "source": [
    "import math\n",
    "side=int(input(\"enter side of triangle to get area of circle : \"))\n",
    "ac=side\n",
    "bc=side/2\n",
    "bd=math.sqrt((ac**2)-(bc**2))\n",
    "radius=(bd/3)*2\n",
    "d=radius*2\n",
    "print(\"surcamp france of circle : \",math.pi*radius*2)\n",
    "print(f'area of circle : {math.pi*(radius**2):0.2f}')"
   ]
  },
  {
   "cell_type": "markdown",
   "metadata": {},
   "source": [
    "# Q2 : wap to convert the given days into year month and days."
   ]
  },
  {
   "cell_type": "code",
   "execution_count": 38,
   "metadata": {},
   "outputs": [
    {
     "name": "stdout",
     "output_type": "stream",
     "text": [
      "0\n",
      "2\n",
      "1\n",
      "0 years 2 month 1 days\n"
     ]
    }
   ],
   "source": [
    "day=int(input(\"enter days : \"))\n",
    "year=int(day/365)\n",
    "print(year)\n",
    "month=int((day-(year*365))/30)\n",
    "print(month)\n",
    "days=int(day-((year*365)+(month*30)))\n",
    "print(days)\n",
    "#OR\n",
    "print(day//365,\"years\",(day%365)//30,\"month\",day%365%30,\"days\")"
   ]
  },
  {
   "cell_type": "markdown",
   "metadata": {},
   "source": [
    "# Q3 : wap to find total no of currency notes use to purchase a product of x amount "
   ]
  },
  {
   "cell_type": "code",
   "execution_count": 44,
   "metadata": {},
   "outputs": [
    {
     "name": "stdout",
     "output_type": "stream",
     "text": [
      "3\n",
      "3\n",
      "2\n",
      "1\n",
      "0\n",
      "0\n",
      "0\n",
      "0\n"
     ]
    }
   ],
   "source": [
    "amount=int(input(\"enter amount : \"))\n",
    "_500=amount//500\n",
    "_200=(amount%500)//200\n",
    "_100=(amount%500%200)//100\n",
    "_50=(amount%500%200%100)//50\n",
    "_20=(amount%500%200%100%50)//20\n",
    "_10=(amount%500%200%100%50%20)//10\n",
    "print(_500+_200+_100+_50+_20+_10)\n",
    "\n",
    "# OR\n",
    "\n",
    "_500=amount//500\n",
    "_500+=(amount%500)//200\n",
    "_500+=(amount%500%200)//100\n",
    "_500+=(amount%500%200%100)//50\n",
    "_500+=(amount%500%200%100%50)//20\n",
    "_500+=(amount%500%200%100%50%20)//10\n",
    "print(_500)\n",
    "\n",
    "# OR\n",
    "\n",
    "_500=amount//500\n",
    "print(_500)\n",
    "_500=(amount%500)//200\n",
    "print(_500)\n",
    "_500=(amount%500%200)//100\n",
    "print(_500)\n",
    "_500=(amount%500%200%100)//50\n",
    "print(_500)\n",
    "_500=(amount%500%200%100%50)//20\n",
    "print(_500)\n",
    "_500=(amount%500%200%100%50%20)//10\n",
    "print(_500)"
   ]
  },
  {
   "cell_type": "markdown",
   "metadata": {},
   "source": [
    "# Conditional Statement"
   ]
  },
  {
   "cell_type": "code",
   "execution_count": 46,
   "metadata": {},
   "outputs": [
    {
     "name": "stdout",
     "output_type": "stream",
     "text": [
      "False\n",
      "hi\n"
     ]
    }
   ],
   "source": [
    "if 10>20 :\n",
    "    print('True')\n",
    "else :\n",
    "    print('False')\n",
    "print('hi')"
   ]
  },
  {
   "cell_type": "markdown",
   "metadata": {},
   "source": [
    "# Q4 : wap to find a electricity bill of a household for the following"
   ]
  },
  {
   "cell_type": "code",
   "execution_count": 48,
   "metadata": {},
   "outputs": [
    {
     "name": "stdout",
     "output_type": "stream",
     "text": [
      "your bill is :  1500\n"
     ]
    }
   ],
   "source": [
    "units=int(input(\"enter units : \"))\n",
    "if units<=100 :\n",
    "    print(\"your bill is zero.\")\n",
    "elif units>100 and units<=200 :\n",
    "    print(\"your bill is : \",(units-100)*5)\n",
    "elif units>200 :\n",
    "    print(\"your bill is : \",500+((units-200)*10))"
   ]
  },
  {
   "cell_type": "markdown",
   "metadata": {},
   "source": [
    "# Q5 :  find the total package offer by  a company to an employee basis criteriaalso calculate  the CGPA of the student."
   ]
  },
  {
   "cell_type": "code",
   "execution_count": 49,
   "metadata": {},
   "outputs": [
    {
     "name": "stdout",
     "output_type": "stream",
     "text": [
      "CGPA : 6.67\n",
      "package :  7000\n",
      "CTC :  8400.0\n"
     ]
    }
   ],
   "source": [
    "a=int(input(\"enter the marks of subject - 1 : \"))\n",
    "b=int(input(\"enter the marks of subject - 2 : \"))\n",
    "c=int(input(\"enter the marks of subject - 3 : \"))\n",
    "CGPA=(a+b+c)/30\n",
    "basis=0\n",
    "salary=0\n",
    "print(f\"CGPA : {CGPA:0.2f}\")\n",
    "if CGPA>8.5 :\n",
    "    basis=25000\n",
    "    salary=basis+(basis*0.1)+(basis*0.07)+(basis*0.05)\n",
    "elif CGPA>7.1 and CGPA<8.5 :\n",
    "    basis=15000\n",
    "    salary=basis+(basis*0.1)+(basis*0.07)+(basis*0.05)\n",
    "elif CGPA>5.5 and CGPA<7.0 :\n",
    "    basis=7000\n",
    "    salary=basis+(basis*0.1)+(basis*0.05)+(basis*0.05)\n",
    "else :\n",
    "    basis=5000\n",
    "    salary=basis+(basis*0.1)+(basis*0.05)+(basis*0.05)\n",
    "print(\"package : \",basis)\n",
    "print(\"CTC : \",salary)"
   ]
  },
  {
   "cell_type": "markdown",
   "metadata": {},
   "source": [
    "# Q6 : wap to find wether the entered year is leap year or not."
   ]
  },
  {
   "cell_type": "code",
   "execution_count": 52,
   "metadata": {},
   "outputs": [
    {
     "name": "stdout",
     "output_type": "stream",
     "text": [
      "entered year is not leap year.\n"
     ]
    }
   ],
   "source": [
    "year=int(input(\"enter year : \"))\n",
    "if (year%4==0 and year%100!=0) or (year%400==0) :\n",
    "    print(\"entered year is leap year.\")\n",
    "else :\n",
    "    print(\"entered year is not leap year.\")"
   ]
  },
  {
   "cell_type": "markdown",
   "metadata": {},
   "source": [
    "# Q7 : wap to find the next day of any user defined day"
   ]
  },
  {
   "cell_type": "code",
   "execution_count": 56,
   "metadata": {},
   "outputs": [
    {
     "name": "stdout",
     "output_type": "stream",
     "text": [
      "1 / 3 / 2004\n"
     ]
    }
   ],
   "source": [
    "year=int(input(\"enter year : \"))\n",
    "month=int(input(\"enter month : \"))\n",
    "day=int(input(\"enter day : \"))\n",
    "b=True\n",
    "if (month==2) and ((year%4==0 and year%100!=0) or (year%400==0)) :\n",
    "    if day>=1 and day<=29 :\n",
    "        if day==29 :\n",
    "            month+=1\n",
    "            day=1\n",
    "        else :\n",
    "            day+=1\n",
    "    else :\n",
    "        print(\"invalid days\")\n",
    "        b=False\n",
    "else :\n",
    "    if month==12 :\n",
    "        if day>=1 and day<=31 :\n",
    "            if day==31 :\n",
    "                year+=1\n",
    "                month=1\n",
    "                day=1\n",
    "            else :\n",
    "                day+=1\n",
    "        else :\n",
    "            print(\"invalid days\")\n",
    "            b=False\n",
    "    elif (month==1 or month==3 or month==5 or month==7 or month==8 or month==10) :\n",
    "        if day>=1 and day<=31 :\n",
    "            if day==31 :\n",
    "                month+=1\n",
    "                day=1\n",
    "            else :\n",
    "                day+=1\n",
    "        else :\n",
    "            print(\"invalid days\")\n",
    "            b=False\n",
    "    elif (month==2 or month==4 or month==6 or month==9 or month==11) :\n",
    "        if day>=1 and day<=30 :\n",
    "            if day==30 :\n",
    "                month+=1\n",
    "                day=1\n",
    "            else :\n",
    "                day+=1\n",
    "        else :\n",
    "            print(\"invalid days\")\n",
    "            b=False\n",
    "    else :\n",
    "        print(\"invalid days\")\n",
    "        b=False\n",
    "if b==True :\n",
    "    print(day,\"/\",month,\"/\",year)"
   ]
  }
 ],
 "metadata": {
  "kernelspec": {
   "display_name": "Python 3",
   "language": "python",
   "name": "python3"
  },
  "language_info": {
   "codemirror_mode": {
    "name": "ipython",
    "version": 3
   },
   "file_extension": ".py",
   "mimetype": "text/x-python",
   "name": "python",
   "nbconvert_exporter": "python",
   "pygments_lexer": "ipython3",
   "version": "3.13.0"
  }
 },
 "nbformat": 4,
 "nbformat_minor": 2
}
