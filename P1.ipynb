{
 "cells": [
  {
   "cell_type": "code",
   "execution_count": null,
   "metadata": {},
   "outputs": [],
   "source": [
    "a = 10,20,30\n",
    "print(a[0])    #Immutable Datastructure\n",
    "type(a)"
   ]
  },
  {
   "cell_type": "code",
   "execution_count": null,
   "metadata": {},
   "outputs": [],
   "source": [
    "a = (10,20,30)\n",
    "print(a[0])     #Immutable Datastructure\n",
    "type(a)"
   ]
  },
  {
   "cell_type": "code",
   "execution_count": null,
   "metadata": {},
   "outputs": [],
   "source": [
    "a = [10,20,30]\n",
    "print(a[0])      #mutable Datastructure\n",
    "type(a)"
   ]
  },
  {
   "cell_type": "code",
   "execution_count": null,
   "metadata": {},
   "outputs": [],
   "source": [
    "a = {10,20,30}\n",
    "print(a)      #mutable Datastructure\n",
    "type(a)"
   ]
  },
  {
   "cell_type": "code",
   "execution_count": null,
   "metadata": {},
   "outputs": [],
   "source": [
    "#s='abc's BOOK'\n",
    "s=\"abc's BOOK\"\n",
    "c='''ysfdsgjhdvfjhsdvfdhvg'''\n",
    "print(c)"
   ]
  },
  {
   "cell_type": "code",
   "execution_count": null,
   "metadata": {
    "scrolled": true
   },
   "outputs": [],
   "source": [
    "#Slicing\n",
    "s='python is very easy'\n",
    "print(s[0])\n",
    "print(s[-19])\n",
    "print(ord(s[6]))\n",
    "print(s[0:6])\n",
    "print(s[-19:-13])\n",
    "print(s[0:6:2])\n",
    "print(s[:6])\n",
    "print(s[0:])\n",
    "print(s[:])\n",
    "print(s[::])\n",
    "print(s[::-1])\n",
    "print(s[0:6:-1])\n",
    "print(s[19:0:-2])\n",
    "print(s[:50])\n",
    "#print(s[50]) index error : string index out of range"
   ]
  },
  {
   "cell_type": "code",
   "execution_count": null,
   "metadata": {},
   "outputs": [],
   "source": [
    "for i in s:\n",
    "    if ord(i)==32 : \n",
    "        break\n",
    "    print(i,end=\"\")\n",
    "print()\n",
    "for i in range(6) : \n",
    "    print(s[i],end=\"\")"
   ]
  },
  {
   "cell_type": "code",
   "execution_count": null,
   "metadata": {},
   "outputs": [],
   "source": [
    "# find positive & negative index of every character of a string.\n",
    "s='python is very easy'\n",
    "for i in range(0,len(s)) : \n",
    "    print(f'the positive index of {s[i]} is {i} & negative index is : {i-len(s)}') "
   ]
  },
  {
   "cell_type": "code",
   "execution_count": null,
   "metadata": {},
   "outputs": [],
   "source": [
    "#in find method we don't get any error except integer\n",
    "s='python is very easy'\n",
    "print(s.find(chr(32),7,19))\n",
    "print(s.find('very'))\n",
    "print(s.find(\" \",7,19))\n",
    "print(s.rfind(\"y\")) # gives -1 when not found"
   ]
  },
  {
   "cell_type": "code",
   "execution_count": null,
   "metadata": {},
   "outputs": [],
   "source": [
    "s='python is very easy'\n",
    "#print(s.index('b')) Value error\n",
    "print(s.index('p'))\n",
    "print(s.rindex('y'))\n",
    "# gives value error when not found , so we don't use this functuion"
   ]
  },
  {
   "cell_type": "code",
   "execution_count": null,
   "metadata": {},
   "outputs": [],
   "source": [
    "x='aaabaac'\n",
    "#print(x.rcount('aa')) AttributeError: 'str' object has no attribute 'rcount'\n",
    "print(x.count('aaa'))\n",
    "print(x.count('aa',2,)) # gives zero when not found"
   ]
  },
  {
   "cell_type": "code",
   "execution_count": null,
   "metadata": {},
   "outputs": [],
   "source": [
    "y='   pyt hon    '\n",
    "y.strip() # works like trim() method in java.\n",
    "y.lstrip() # remove left space\n",
    "y.rstrip() # remove right space\n",
    "x='ypython is very easy'\n",
    "x.strip('y')\n",
    "x.lstrip('y')\n",
    "x.rstrip('easy')\n",
    "# Here strip method works with individual characters."
   ]
  },
  {
   "cell_type": "markdown",
   "metadata": {},
   "source": [
    "# wap to fetch a string from user and find the position of the substring at all  occurences and displayv the total count"
   ]
  },
  {
   "cell_type": "code",
   "execution_count": null,
   "metadata": {},
   "outputs": [],
   "source": [
    "s=input(\"enter a string : \")\n",
    "sb=input(\"enter substring : \")\n",
    "i=s.find(sb)\n",
    "while(i!=-1) :\n",
    "    print(f'the substring {sb} is at index : {i}')\n",
    "    i=s.find(sb,i+len(sb),len(s))\n",
    "print(f'total occurence : {s.count(sb)}')"
   ]
  },
  {
   "cell_type": "code",
   "execution_count": null,
   "metadata": {},
   "outputs": [],
   "source": [
    "s='aaaaa'\n",
    "b=s.replace('a','b') #Here this method not replace characters pernantly it replace characters from temporary memory.\n",
    "s.replace('a',' ')\n",
    "print(id(s))\n",
    "print(id(b))"
   ]
  },
  {
   "cell_type": "code",
   "execution_count": null,
   "metadata": {},
   "outputs": [],
   "source": [
    "s='python is very easy'\n",
    "print(s.split(' '))\n",
    "print(s.rsplit(' ',2))"
   ]
  },
  {
   "cell_type": "markdown",
   "metadata": {},
   "source": [
    "# wap to find total number of words from any given string."
   ]
  },
  {
   "cell_type": "code",
   "execution_count": null,
   "metadata": {},
   "outputs": [],
   "source": [
    "str=input(\"enter string : \")\n",
    "list=str.split()\n",
    "print(len(list))"
   ]
  },
  {
   "cell_type": "code",
   "execution_count": null,
   "metadata": {},
   "outputs": [],
   "source": [
    "s='python is very easy'\n",
    "print(s.upper())\n",
    "print(s.lower())\n",
    "print(s.swapcase())\n",
    "print(s.title())\n",
    "print(s.capitalize())"
   ]
  },
  {
   "cell_type": "code",
   "execution_count": null,
   "metadata": {},
   "outputs": [],
   "source": [
    "s='python'\n",
    "print(s.endswith('n'))\n",
    "print(s.isalnum())\n",
    "print(s.isalpha())\n",
    "print(s.isupper())\n",
    "print(s.islower())\n",
    "print(s.isspace())\n",
    "print(s.isdigit())"
   ]
  },
  {
   "cell_type": "markdown",
   "metadata": {},
   "source": [
    "# wap to get a user input string and display all formating possiblities."
   ]
  },
  {
   "cell_type": "code",
   "execution_count": null,
   "metadata": {},
   "outputs": [],
   "source": [
    "str=input(\"enter string : \")\n",
    "if str.isalnum() : print('Is Alphanumeric')\n",
    "if str.isalpha() : print('Is Alphabet')\n",
    "if str.isdigit() : print('Is Numeric')\n",
    "if str.isupper() : print('Is upperCase')\n",
    "if str.islower() : print('Is lowerCase')\n",
    "if str.isspace() : print('Is Space')"
   ]
  },
  {
   "cell_type": "code",
   "execution_count": null,
   "metadata": {},
   "outputs": [],
   "source": [
    "str=input(\"enter string : \")\n",
    "if str.isalnum() : \n",
    "    print('Is Alphanumeric')\n",
    "    if str.isalpha() : \n",
    "        print('Is Alphabet')\n",
    "        if str.isupper() : \n",
    "            print('Is upperCase')\n",
    "        elif str.islower() : \n",
    "            print('Is lowerCase')\n",
    "    if str.isdigit() : \n",
    "        print('Is digit')\n",
    "elif str.isspace() : \n",
    "    print('Is Space')\n",
    "else : \n",
    "    print('no case aplicable')"
   ]
  },
  {
   "cell_type": "markdown",
   "metadata": {},
   "source": [
    "# wap to fetch a user input in a particular order which fetches the output multiplied by digit value asociated ."
   ]
  },
  {
   "cell_type": "code",
   "execution_count": null,
   "metadata": {},
   "outputs": [],
   "source": [
    "s=input(\"enter a string : \")\n",
    "sub=\"\"\n",
    "i=0\n",
    "while(i!=len(s)) : \n",
    "    temp=s[i+1]\n",
    "    sub+=s[i]*int(temp)\n",
    "    i+=2\n",
    "print(sub)"
   ]
  },
  {
   "cell_type": "markdown",
   "metadata": {},
   "source": [
    "# sorted"
   ]
  },
  {
   "cell_type": "code",
   "execution_count": null,
   "metadata": {},
   "outputs": [],
   "source": [
    "s=\"a2b2c3\"\n",
    "print(sorted(s))\n",
    "type(sorted(s))"
   ]
  },
  {
   "cell_type": "markdown",
   "metadata": {},
   "source": [
    "# wap to fetch a user input string and display the output in sorted manar such as all the alphabets should be in prefix."
   ]
  },
  {
   "cell_type": "code",
   "execution_count": null,
   "metadata": {},
   "outputs": [],
   "source": [
    "str=input(\"enter a string : \")\n",
    "str=sorted(str)\n",
    "s=\"\"\n",
    "num=\"\"\n",
    "for i in str : \n",
    "    if i.isdigit() : \n",
    "        num+=i\n",
    "    else : \n",
    "        s+=i\n",
    "\n",
    "print(''.join(s)+''.join(num))"
   ]
  },
  {
   "cell_type": "markdown",
   "metadata": {},
   "source": [
    "# Join"
   ]
  },
  {
   "cell_type": "code",
   "execution_count": null,
   "metadata": {},
   "outputs": [],
   "source": [
    "a=' 123 '\n",
    "#input==output in below case\n",
    "print(''.join(a))\n",
    "print('||'.join(a))"
   ]
  },
  {
   "cell_type": "code",
   "execution_count": null,
   "metadata": {},
   "outputs": [],
   "source": [
    "# help to convert list to string\n",
    "a='321'\n",
    "s=sorted(a)\n",
    "print(s)\n",
    "print(''.join(s))"
   ]
  },
  {
   "cell_type": "code",
   "execution_count": null,
   "metadata": {},
   "outputs": [],
   "source": [
    "a='122'\n",
    "print(a.startswith('1'))\n",
    "print(a.endswith('2'))"
   ]
  },
  {
   "cell_type": "markdown",
   "metadata": {},
   "source": [
    "# wap to find encypyted msg using a keybinding"
   ]
  },
  {
   "cell_type": "code",
   "execution_count": null,
   "metadata": {},
   "outputs": [],
   "source": [
    "msg=input(\"enter a String : \")\n",
    "key=int(input(\"enter a key : \"))\n",
    "encrypt=\"\"\n",
    "for j in range(key) : \n",
    "    for i in range(j,len(msg),key) : \n",
    "        encrypt+=msg[i]\n",
    "print(encrypt)\n",
    "\n",
    "# or\n",
    "\n",
    "out=\"\"\n",
    "x=0\n",
    "for k in msg : \n",
    "    if x<key : \n",
    "        out+=msg[x:len(msg)+1:key]\n",
    "        x+=1\n",
    "print(out)"
   ]
  },
  {
   "cell_type": "code",
   "execution_count": null,
   "metadata": {},
   "outputs": [],
   "source": [
    "num=input(\"enter a number : \")\n",
    "shift=int(input(\"enter shift : \"))\n",
    "print(num[shift:]+num[:shift])"
   ]
  },
  {
   "cell_type": "code",
   "execution_count": null,
   "metadata": {},
   "outputs": [],
   "source": [
    "str=input(\"enter a String : \")\n",
    "key=int(input(\"enter a key : \"))\n",
    "abcd='abcdefghijklmnopqrstuvwxyz'\n",
    "main=\"\"\n",
    "for i in range(len(str)) : \n",
    "    for j in range(len(abcd)) : \n",
    "        if str[i]==abcd[j] : \n",
    "            if j+key>25 : \n",
    "                main+=abcd[(j+key)-26]\n",
    "            else : \n",
    "                main+=abcd[j+key]\n",
    "print(main)"
   ]
  },
  {
   "cell_type": "code",
   "execution_count": null,
   "metadata": {},
   "outputs": [],
   "source": [
    "t=10,\n",
    "print(type(t))\n",
    "#tuple\n",
    "\n",
    "t1=(10)\n",
    "print(type(t1))\n",
    "#integer not tuple"
   ]
  },
  {
   "cell_type": "markdown",
   "metadata": {},
   "source": [
    "# Translate method"
   ]
  },
  {
   "cell_type": "markdown",
   "metadata": {},
   "source": [
    " # wap to replace all the vowels from a string to 12345."
   ]
  },
  {
   "cell_type": "code",
   "execution_count": null,
   "metadata": {},
   "outputs": [],
   "source": [
    "str=input(\"enter a string : \")\n",
    "intab='aeiou'\n",
    "outtab='12345'\n",
    "a=str.maketrans(intab,outtab)\n",
    "str.translate(a)\n"
   ]
  },
  {
   "cell_type": "markdown",
   "metadata": {},
   "source": [
    "# String library"
   ]
  },
  {
   "cell_type": "markdown",
   "metadata": {},
   "source": [
    "# wap to remove all the punchuation from the given string."
   ]
  },
  {
   "cell_type": "code",
   "execution_count": null,
   "metadata": {},
   "outputs": [],
   "source": [
    "import string\n",
    "string.punctuation\n",
    "str=input(\"enter a String : \")\n",
    "# a=str.maketrans('','','?')\n",
    "a=str.maketrans('','',string.punctuation)\n",
    "print(str.translate(a))"
   ]
  },
  {
   "cell_type": "markdown",
   "metadata": {},
   "source": [
    "# wap to validate a user given password.\n",
    "# 1)At least 8 characters\n",
    "# 2)1 Uppercase\n",
    "# 3)1 lower case\n",
    "# 4)no space\n",
    "# 5)'_#*\" any 1 of this"
   ]
  },
  {
   "cell_type": "code",
   "execution_count": null,
   "metadata": {},
   "outputs": [],
   "source": [
    "str=input(\"enter your password to validate : \")\n",
    "u=False\n",
    "l=False\n",
    "s=True\n",
    "length=True\n",
    "special=False\n",
    "if len(str)>=8 :\n",
    "    for i in str : \n",
    "        if i.isupper() :\n",
    "            u=True\n",
    "        elif i.islower() : \n",
    "            l=True\n",
    "        elif i.isspace() : \n",
    "            s=False\n",
    "        elif i=='_' or i=='#' or i=='*' :\n",
    "            special=True\n",
    "else : \n",
    "    print(\"length of password must be 8\")\n",
    "    length=False\n",
    "if u==True and l==True and s==True and length==True and special==True : \n",
    "    print(\"all cases verified\")\n",
    "else : \n",
    "    if u==False : \n",
    "        print(\"not uppercase\")\n",
    "    else : \n",
    "        print(\"uppercase\")\n",
    "    if l==False : \n",
    "        print(\"not lowercase\")\n",
    "    else : \n",
    "        print(\"lowercase\")\n",
    "    if s==True : \n",
    "        print(\"spaces are available\")\n",
    "    else : \n",
    "        print(\"spaces are not available\")\n",
    "    if special==False : \n",
    "        print(\"not special characters\")\n",
    "    else : \n",
    "        print(\"special characters available\")"
   ]
  },
  {
   "cell_type": "markdown",
   "metadata": {},
   "source": [
    "# Tuples(Immutable)"
   ]
  },
  {
   "cell_type": "code",
   "execution_count": null,
   "metadata": {},
   "outputs": [],
   "source": [
    "t=10,20,30,'abc','def'\n",
    "print(type(t))\n",
    "print(type(t[0]))\n",
    "print(t[2])\n",
    "print(t)\n",
    "print(t[:])\n",
    "# Slicing works in tuples"
   ]
  },
  {
   "cell_type": "markdown",
   "metadata": {},
   "source": [
    "# Tuple Unpacking"
   ]
  },
  {
   "cell_type": "code",
   "execution_count": null,
   "metadata": {},
   "outputs": [],
   "source": [
    "t=10,20,30\n",
    "a,b,c=t\n",
    "d=a,b,c\n",
    "print(d)"
   ]
  },
  {
   "cell_type": "code",
   "execution_count": null,
   "metadata": {},
   "outputs": [],
   "source": [
    "s=10,30\n",
    "t=10,20\n",
    "p=5\n",
    "print(t<s)\n",
    "print(s+t)\n",
    "# print(s*t) TypeError: can't multiply sequence by non-int of type 'tuple'\n",
    "print(s*p)"
   ]
  },
  {
   "cell_type": "markdown",
   "metadata": {},
   "source": [
    "# wap to fetch n no of integer value from user. store all the numbers in a tuple and find its sum and average."
   ]
  },
  {
   "cell_type": "code",
   "execution_count": null,
   "metadata": {},
   "outputs": [],
   "source": [
    "n=int(input(\"enter how many time you want to enter : \"))\n",
    "t=()\n",
    "total=0\n",
    "for i in range(n) : \n",
    "    num=int(input(f\"enter your number - {i+1} : \"))\n",
    "    total+=num\n",
    "    t+=num,\n",
    "print('total : ',total)\n",
    "print('average : ',(total//n))"
   ]
  },
  {
   "cell_type": "markdown",
   "metadata": {},
   "source": [
    "# 2D-Tuples"
   ]
  },
  {
   "cell_type": "code",
   "execution_count": null,
   "metadata": {},
   "outputs": [],
   "source": [
    "t=((1,2,3),(4,5,6))\n",
    "print(t[0][0],t[1][0])\n",
    "print(len(t))\n",
    "for i in range(len(t)) : \n",
    "    for j in range(len(t[i])) :\n",
    "        print(t[i][j],end=\"\")"
   ]
  },
  {
   "cell_type": "markdown",
   "metadata": {},
   "source": [
    "# wap to create an n*n matrix when all the values are fetch by user sapratly and also transpos the matrix. "
   ]
  },
  {
   "cell_type": "code",
   "execution_count": null,
   "metadata": {},
   "outputs": [],
   "source": [
    "n=int(input(\"enter no of rows or columns : \"))\n",
    "matrix=()\n",
    "for i in range(n) : \n",
    "    temp=()\n",
    "    for j in range(n) : \n",
    "        temp+=int(input(\"enter ele : \")),\n",
    "    matrix+=temp,\n",
    "print(matrix)\n",
    "\n",
    "\n",
    "\n",
    "# Transpos matrix\n",
    "transpos=()\n",
    "for i in range(len(matrix)) : \n",
    "    temp=()\n",
    "    for j in range(len(matrix)) : \n",
    "        temp+=matrix[j][i],\n",
    "    transpos+=temp,\n",
    "for i in range(len(transpos)) : \n",
    "    for j in range(len(transpos[i])) :\n",
    "        print(transpos[i][j],end=\" \")\n",
    "    print()"
   ]
  },
  {
   "cell_type": "code",
   "execution_count": null,
   "metadata": {},
   "outputs": [],
   "source": [
    "t=('ab','abc','AB')\n",
    "min=0\n",
    "max=0\n",
    "for i in range(len(t)) : \n",
    "    if t[i]<min : \n",
    "        min=t[i]"
   ]
  },
  {
   "cell_type": "markdown",
   "metadata": {},
   "source": [
    "# List "
   ]
  },
  {
   "cell_type": "code",
   "execution_count": null,
   "metadata": {},
   "outputs": [],
   "source": [
    "L = [1,2,[3,5],'tanish']\n",
    "L[1]=5\n",
    "print(L[1]) \n",
    "L[2::2]\n",
    "print(L[2])\n",
    "print(type(L[0]))\n",
    "# print(len(L[0])) Here L[0] is a integer so we got type error because len is not for integer.\n",
    "print(len(L[3]))\n",
    "L.index(5,1,4)\n",
    "print(L.reverse())\n",
    "print(L)\n",
    "# print(L.sort()) Here it gives error because in sort method string is not allowed"
   ]
  },
  {
   "cell_type": "markdown",
   "metadata": {},
   "source": [
    "# Cloning"
   ]
  },
  {
   "cell_type": "code",
   "execution_count": null,
   "metadata": {},
   "outputs": [],
   "source": [
    "l=[50,40,30,20,10]\n",
    "l1=l.copy()\n",
    "print(l.sort())\n",
    "print(l)\n",
    "print(l.sort(reverse=True))\n",
    "print(l)\n",
    "print(l1)\n",
    "l1[1]=5\n",
    "print(l)\n",
    "print(id(l))\n",
    "print(id(l1))\n",
    "print(l)\n",
    "print(l1)"
   ]
  },
  {
   "cell_type": "code",
   "execution_count": null,
   "metadata": {},
   "outputs": [],
   "source": [
    "s=[1,2,2,2,3]\n",
    "print(s.count(2))\n",
    "print(s.count(0)) # if element not found then it gives zero\n",
    "s.append(9) # this method supports only one element\n",
    "s.append((4,5))\n",
    "s.append([6,7])\n",
    "print(s)\n",
    "# s.extend(4) this method not allows one element instead this add list or tuple\n",
    "s.extend([8,9,10])\n",
    "s.extend((11,12,13))\n",
    "print(s.insert(0,10))\n",
    "s.insert(16,20)\n",
    "s.remove(2) # it remove the first occurence of the element.\n",
    "s.pop() # it remove the last element of the list and return the value of that element. it gives index error if list is empty\n",
    "print(s)"
   ]
  },
  {
   "cell_type": "code",
   "execution_count": null,
   "metadata": {},
   "outputs": [],
   "source": [
    "s=[1,2,3,4,5,6,7,8,9,10]\n",
    "s.pop(2)\n",
    "print(s)"
   ]
  },
  {
   "cell_type": "markdown",
   "metadata": {},
   "source": [
    "# wap to fetch a sentence from user and find the total no of vowels used and name them. "
   ]
  },
  {
   "cell_type": "code",
   "execution_count": null,
   "metadata": {},
   "outputs": [],
   "source": [
    "str=input(\"enter a string : \")\n",
    "vowels=[]\n",
    "total=0\n",
    "for i in str : \n",
    "    if (i=='a') or (i=='e') or (i=='i') or (i=='o') or (i=='u') : \n",
    "        total+=1\n",
    "        if vowels.count(i)==0 : \n",
    "            vowels.append(i)\n",
    "print(vowels)\n",
    "print(f\"total vowels : {total}\")"
   ]
  },
  {
   "cell_type": "markdown",
   "metadata": {},
   "source": [
    "# wap to convert a number that is user define between 0 and 99 to text format."
   ]
  },
  {
   "cell_type": "code",
   "execution_count": null,
   "metadata": {},
   "outputs": [],
   "source": [
    "num=int(input(\"enter a number to get in text format : \"))\n",
    "list=['','ten','twenty','thirty','fourty','fifty','sixty','seventy','eieghty','ninty']\n",
    "text=['','one','two','three','four','five','six','seven','eieght','nine','ten','eleven','twelve','thirteen','fourteen','fifteen','sixteen','seventeen','eieghteen','nineteen']\n",
    "\n",
    "if num>99 and num<=999 : \n",
    "    r=num//100\n",
    "    temp=num%100\n",
    "    ans=''\n",
    "    if temp<=19 : \n",
    "        ans=text[temp]\n",
    "    elif temp<=99 : \n",
    "        ans=list[temp//10]+' '+text[temp%10]\n",
    "    print(text[r]+' hundred '+ans)\n",
    "elif num<=99 and num>=0 : \n",
    "    if num==0 :\n",
    "        print('zero')\n",
    "    elif num<=19 : \n",
    "        print(text[num])\n",
    "    elif num<=99 : \n",
    "        print(list[num//10]+' '+text[num%10])\n",
    "    else : \n",
    "        print('enter a correct number.')"
   ]
  },
  {
   "cell_type": "markdown",
   "metadata": {},
   "source": [
    "# wap to create a pizza ordering app for tanish pizza shop"
   ]
  },
  {
   "cell_type": "code",
   "execution_count": 6,
   "metadata": {},
   "outputs": [
    {
     "name": "stdout",
     "output_type": "stream",
     "text": [
      "enter no of pizza for order : 2\n",
      "enter size(S,M,L) : s\n",
      "here is all topings for select enter name for exit type exit: \n",
      "['corn', 'tomato', 'capcicum', 'olive']\n",
      "['mushrom', 'jalepano', 'broccoli']\n",
      "enter topings : corn\n",
      "enter topings : exit\n",
      "here is all type of cheese for select enter name : \n",
      "['mazzarell', 'cheddar', 'goat']\n",
      "enter cheese : cheddar\n",
      "enter cheese : exit\n",
      "enter size(S,M,L) : m\n",
      "here is all topings for select enter name for exit type exit: \n",
      "['corn', 'tomato', 'capcicum', 'olive']\n",
      "['mushrom', 'jalepano', 'broccoli']\n",
      "enter topings : tomato\n",
      "enter topings : exit\n",
      "here is all type of cheese for select enter name : \n",
      "['mazzarell', 'cheddar', 'goat']\n",
      "enter cheese : goat\n",
      "enter cheese : exit\n",
      "\n",
      "\n",
      "\n",
      "\n",
      "pizza no : 1\n",
      "size of pizza : s\n",
      "toppings of pizza : corn\n",
      "type of cheese : cheddar\n",
      "price : 170\n",
      "pizza no : 2\n",
      "size of pizza : m\n",
      "toppings of pizza : tomato\n",
      "type of cheese : goat\n",
      "price : 440\n",
      "total bill amount is : 610\n"
     ]
    }
   ],
   "source": [
    "no=int(input(\"enter no of pizza for order : \"))\n",
    "s=100\n",
    "m=200\n",
    "l=250\n",
    "price=0\n",
    "total=0\n",
    "normal=['corn','tomato','capcicum','olive']\n",
    "standard=['mushrom','jalepano','broccoli']\n",
    "cheese=['mazzarell','cheddar','goat']\n",
    "sizes=[]\n",
    "toppings=[]\n",
    "cheese1=[]\n",
    "prices=[]\n",
    "for i in range(no) : \n",
    "    size=input(\"enter size(S,M,L) : \")\n",
    "    if size=='s' : \n",
    "        price+=s\n",
    "        sizes.append('s')\n",
    "    elif size=='m' : \n",
    "        price+=m\n",
    "        sizes.append('m')\n",
    "    elif size=='l' : \n",
    "        price+=l\n",
    "        sizes.append('l')\n",
    "    print(\"here is all topings for select enter name for exit type exit: \")\n",
    "    print(normal)\n",
    "    print(standard)\n",
    "    while True : \n",
    "        topping=input(\"enter topings : \")\n",
    "        if topping=='exit' : \n",
    "            break\n",
    "        if topping in normal : \n",
    "            price+=20\n",
    "            toppings.append(topping)\n",
    "        if topping in standard : \n",
    "            price+=50\n",
    "            toppings.append(topping)\n",
    "    print(\"here is all type of cheese for select enter name : \")\n",
    "    print(cheese)\n",
    "    while True : \n",
    "        ch=input(\"enter cheese : \")\n",
    "        if ch=='exit' : \n",
    "            break\n",
    "        if ch in cheese :\n",
    "            price+=50\n",
    "            cheese1.append(ch)\n",
    "    prices.append(price)\n",
    "print()\n",
    "print()\n",
    "print()\n",
    "print()\n",
    "for i in range(no) :\n",
    "    print(f'pizza no : {i+1}')\n",
    "    print(f'size of pizza : {sizes[i]}')\n",
    "    print(f'toppings of pizza : {toppings[i]}')\n",
    "    print(f'type of cheese : {cheese1[i]}')\n",
    "    print(f'price : {prices[i]}')\n",
    "    total+=prices[i]\n",
    "    print()\n",
    "    print()\n",
    "    print()\n",
    "print(f'total bill amount is : {total}')"
   ]
  },
  {
   "cell_type": "code",
   "execution_count": 1,
   "metadata": {},
   "outputs": [
    {
     "name": "stdout",
     "output_type": "stream",
     "text": [
      "How many pizzas you want to order: 2\n",
      "Customize Pizza 1\n",
      "Select Pizza Size: small, medium or large\n",
      "Select size: small\n",
      "Select Toppings:\n",
      "        'corn', 'tomato', 'olive', 'capsicum'\n",
      "        'mushroom', 'jalepeno', 'broccoli' \n",
      "How many toppings: 1\n",
      "Enter toppings: corn\n",
      "Select Cheese: mozarrella, goat, cheddar\n",
      "How many cheese: 1\n",
      "Enter cheese: goat\n",
      "Customize Pizza 2\n",
      "Select Pizza Size: small, medium or large\n",
      "Select size: medium\n",
      "Select Toppings:\n",
      "        'corn', 'tomato', 'olive', 'capsicum'\n",
      "        'mushroom', 'jalepeno', 'broccoli' \n",
      "How many toppings: 1\n",
      "Enter toppings: corn\n",
      "Select Cheese: mozarrella, goat, cheddar\n",
      "How many cheese: 1\n",
      "Enter cheese: goat\n",
      "Pizza 1\n",
      "Size: small\n",
      "Toppings: ['corn']\n",
      "Cheese: ['goat']\n",
      "Pizza cost: 170\n",
      "Pizza 2\n",
      "Size: medium\n",
      "Toppings: ['corn']\n",
      "Cheese: ['goat']\n",
      "Pizza cost: 270\n",
      "Total bill amount: 440\n"
     ]
    }
   ],
   "source": [
    "def calculate_pizza_price(size, toppings, cheese):\n",
    "    cost = 0\n",
    "\n",
    "    # Calculate pizza base price based on size\n",
    "    if size == 'small':\n",
    "        cost += 100\n",
    "    elif size == 'medium':\n",
    "        cost += 200\n",
    "    else:\n",
    "        cost += 250\n",
    "\n",
    "    # Calculate topping prices\n",
    "    topping_prices_20 = ['corn', 'tomato', 'olive', 'capsicum']\n",
    "    topping_prices_50 = ['mushroom', 'jalepeno', 'broccoli']\n",
    "\n",
    "    for topping in toppings:\n",
    "        cost += 20 if topping in topping_prices_20 else 50\n",
    "\n",
    "    # Calculate cheese price\n",
    "    cost += 50 * len(cheese)\n",
    "\n",
    "    return cost\n",
    "\n",
    "def order_pizza():\n",
    "    pizzas = []\n",
    "    number = int(input(\"How many pizzas you want to order: \"))\n",
    "\n",
    "    for i in range(number):\n",
    "        toppings = []\n",
    "        cheese = []\n",
    "\n",
    "        print('Customize Pizza', i + 1)\n",
    "        print('Select Pizza Size: small, medium or large')\n",
    "        size = input('Select size: ')\n",
    "        print('''Select Toppings:\n",
    "        'corn', 'tomato', 'olive', 'capsicum'\n",
    "        'mushroom', 'jalepeno', 'broccoli' ''')\n",
    "        toppings_count = int(input('How many toppings: '))\n",
    "        for _ in range(toppings_count):\n",
    "            toppings.append(input('Enter toppings: '))\n",
    "        print('Select Cheese: mozarrella, goat, cheddar')\n",
    "        cheese_count = int(input('How many cheese: '))\n",
    "        for _ in range(cheese_count):\n",
    "            cheese.append(input('Enter cheese: '))\n",
    "\n",
    "        pizza_cost = calculate_pizza_price(size, toppings, cheese)\n",
    "        pizzas.append((size, toppings, cheese, pizza_cost))\n",
    "\n",
    "    return pizzas\n",
    "\n",
    "def print_bill(pizzas):\n",
    "    total = 0\n",
    "    count = 1\n",
    "\n",
    "    for pizza in pizzas:\n",
    "        print('Pizza', count)\n",
    "        print(\"Size:\", pizza[0])\n",
    "        print(\"Toppings:\", pizza[1])\n",
    "        print(\"Cheese:\", pizza[2])\n",
    "        print(\"Pizza cost:\", pizza[3])\n",
    "        total += pizza[3]\n",
    "        count += 1\n",
    "\n",
    "    print('Total bill amount:', total)\n",
    "\n",
    "# Main program\n",
    "pizza_order = order_pizza()\n",
    "print_bill(pizza_order)"
   ]
  },
  {
   "cell_type": "code",
   "execution_count": 14,
   "metadata": {},
   "outputs": [
    {
     "name": "stdout",
     "output_type": "stream",
     "text": [
      "1 2 3 \n",
      "4 5 6 \n",
      "7 8 9 \n",
      "------\n",
      "7 4 1 \n",
      "8 5 2 \n",
      "9 6 3 \n"
     ]
    }
   ],
   "source": [
    "# n=int(input(\"enter no of rows or columns : \"))\n",
    "matrix=[[1,2,3],[4,5,6],[7,8,9]]\n",
    "for i in range(len(matrix)) : \n",
    "    for j in range(len(matrix[i])) :\n",
    "        print(matrix[i][j],end=\" \")\n",
    "    print()\n",
    "print('------')\n",
    "for i in range(len(matrix)) : \n",
    "    for j in range(len(matrix[i])-1,-1,-1) :\n",
    "        print(matrix[j][i],end=\" \")\n",
    "    print()"
   ]
  },
  {
   "cell_type": "code",
   "execution_count": 24,
   "metadata": {},
   "outputs": [
    {
     "name": "stdout",
     "output_type": "stream",
     "text": [
      "[2, 3]\n",
      "[]\n"
     ]
    }
   ],
   "source": [
    "l=[1,2,3]\n",
    "del l[0]\n",
    "print(l)\n",
    "l.clear() # here we don't get error because clear method only deletes the elements of list\n",
    "print(l)\n",
    "del l\n",
    "# print(l) Here we get name error because del property delete the list from storage."
   ]
  },
  {
   "cell_type": "markdown",
   "metadata": {},
   "source": [
    "# wap to create a list which has the squares of numbers from 1 to 20(Using list comprehension)."
   ]
  },
  {
   "cell_type": "code",
   "execution_count": 35,
   "metadata": {},
   "outputs": [
    {
     "name": "stdout",
     "output_type": "stream",
     "text": [
      "[1, 4, 9, 16, 25, 36, 49, 64, 81, 100, 121, 144, 169, 196, 225, 256, 289, 324, 361, 400]\n",
      "[4, 16, 36, 64, 100, 144, 196, 256, 324, 400]\n",
      "['python', 'easy']\n"
     ]
    }
   ],
   "source": [
    "L=[(x*x) for x in range(1,21)]\n",
    "print(L)\n",
    "L1=[x for x in L if x%2==0]\n",
    "print(L1)\n",
    "P=['python','IS','VERY','easy']\n",
    "P1=[x for x in P if x.islower()]\n",
    "print(P1)"
   ]
  },
  {
   "cell_type": "markdown",
   "metadata": {},
   "source": [
    "# Dictionary"
   ]
  },
  {
   "cell_type": "code",
   "execution_count": 48,
   "metadata": {},
   "outputs": [
    {
     "name": "stdout",
     "output_type": "stream",
     "text": [
      "{}\n",
      "<class 'dict'>\n",
      "{1: 'abc'}\n",
      "<class 'dict'>\n",
      "{1: 'ABC', 2: 'DEF'}\n",
      "2\n"
     ]
    }
   ],
   "source": [
    "D={1:'ABC',2:'DEF'}\n",
    "D1={}\n",
    "D1[1]='abc'\n",
    "D2=dict()\n",
    "print(D2)\n",
    "print(type(D2))\n",
    "print(D1)\n",
    "print(type(D1))\n",
    "print(D)\n",
    "print(len(D))"
   ]
  },
  {
   "cell_type": "code",
   "execution_count": 50,
   "metadata": {},
   "outputs": [
    {
     "ename": "KeyError",
     "evalue": "3",
     "output_type": "error",
     "traceback": [
      "\u001b[1;31m---------------------------------------------------------------------------\u001b[0m",
      "\u001b[1;31mKeyError\u001b[0m                                  Traceback (most recent call last)",
      "\u001b[1;32m<ipython-input-50-8772a1a9ed87>\u001b[0m in \u001b[0;36m<module>\u001b[1;34m\u001b[0m\n\u001b[0;32m      1\u001b[0m \u001b[0mD\u001b[0m\u001b[1;33m[\u001b[0m\u001b[1;36m1\u001b[0m\u001b[1;33m]\u001b[0m\u001b[1;33m\u001b[0m\u001b[1;33m\u001b[0m\u001b[0m\n\u001b[1;32m----> 2\u001b[1;33m \u001b[0mD\u001b[0m\u001b[1;33m[\u001b[0m\u001b[1;36m3\u001b[0m\u001b[1;33m]\u001b[0m\u001b[1;33m\u001b[0m\u001b[1;33m\u001b[0m\u001b[0m\n\u001b[0m",
      "\u001b[1;31mKeyError\u001b[0m: 3"
     ]
    }
   ],
   "source": [
    "D[1]\n",
    "D[3]"
   ]
  },
  {
   "cell_type": "markdown",
   "metadata": {},
   "source": [
    "# wap to create a dictionary which has result of five subject stored of a particular student."
   ]
  },
  {
   "cell_type": "code",
   "execution_count": 52,
   "metadata": {},
   "outputs": [
    {
     "name": "stdout",
     "output_type": "stream",
     "text": [
      "enter subjetc name : m\n",
      "enter marks : 50\n",
      "enter subjetc name : s\n",
      "enter marks : 50\n",
      "enter subjetc name : p\n",
      "enter marks : 50\n",
      "enter subjetc name : j\n",
      "enter marks : 50\n",
      "enter subjetc name : e\n",
      "enter marks : 50\n",
      "{'m': 50, 's': 50, 'p': 50, 'j': 50, 'e': 50}\n"
     ]
    }
   ],
   "source": [
    "result={}\n",
    "for i in range(5) : \n",
    "    subject=input(\"enter subjetc name : \")\n",
    "    key=int(input(\"enter marks : \"))\n",
    "    result[subject]=key\n",
    "print(result)"
   ]
  },
  {
   "cell_type": "code",
   "execution_count": 3,
   "metadata": {
    "scrolled": true
   },
   "outputs": [
    {
     "name": "stdout",
     "output_type": "stream",
     "text": [
      "GHI\n",
      "ABC\n",
      "None\n",
      "JKL\n",
      "dict_keys([1, 2, 3, 5])\n",
      "1\n",
      "2\n",
      "3\n",
      "5\n",
      "dict_values(['ABC', 'DEF', None, 'JKL'])\n",
      "ABC\n",
      "DEF\n",
      "None\n",
      "JKL\n",
      "dict_items([(1, 'ABC'), (2, 'DEF'), (3, None), (5, 'JKL')])\n",
      "1 --> ABC\n",
      "2 --> DEF\n",
      "3 --> None\n",
      "5 --> JKL\n",
      "None\n",
      "(5, 'JKL')\n",
      "None\n",
      "{3: 'xyz'}\n"
     ]
    }
   ],
   "source": [
    "D={1:'ABC',2:'DEF'}\n",
    "print(D.get(3,'GHI'))\n",
    "print(D.get(1,'GHI'))\n",
    "print(D.setdefault(3))\n",
    "print(D.setdefault(5,'JKL'))\n",
    "print(D.keys())\n",
    "for i in D.keys() : \n",
    "    print(i)\n",
    "print(D.values())\n",
    "for i in D.values() : \n",
    "    print(i)\n",
    "print(D.items())\n",
    "for i,j in D.items() : \n",
    "    print(i,'-->',j)\n",
    "print(D.pop(3))\n",
    "print(D.popitem())\n",
    "# print(D.popitem(2)) Here we got error because popitem method not allows parameter\n",
    "print(D.clear())\n",
    "D.update({3:'xyz'})\n",
    "print(D)"
   ]
  },
  {
   "cell_type": "code",
   "execution_count": 47,
   "metadata": {},
   "outputs": [
    {
     "name": "stdout",
     "output_type": "stream",
     "text": [
      "{1, 2, 3}\n",
      "3\n",
      "2\n",
      "set()\n"
     ]
    }
   ],
   "source": [
    "s={1,1,2,2,3}\n",
    "print(s)\n",
    "print(len(s))\n",
    "s.update([5])\n",
    "s.add(4)\n",
    "s.remove(1)\n",
    "s.discard(7)\n",
    "# del s delete whole set\n",
    "a=s.pop()# In this method argument not allowed\\\n",
    "print(a)\n",
    "s.clear()\n",
    "print(s)"
   ]
  },
  {
   "cell_type": "code",
   "execution_count": 71,
   "metadata": {},
   "outputs": [
    {
     "name": "stdout",
     "output_type": "stream",
     "text": [
      "{4, 5, 6, 7, 10, 11}\n",
      "{4, 5, 6, 7, 10, 11}\n",
      "{4, 5}\n",
      "{4, 5}\n",
      "{6, 7}\n",
      "{6, 7}\n",
      "{10, 11}\n",
      "{10, 11}\n",
      "{6, 7, 10, 11}\n",
      "{6, 7, 10, 11}\n",
      "False\n",
      "False\n",
      "frozenset({1, 2, 3, 4})\n"
     ]
    }
   ],
   "source": [
    "s1={4,5,6,7}\n",
    "s2={4,5,10,11}\n",
    "print(s1.union(s2))\n",
    "print(s1|s2)# same as union\n",
    "print(s1.intersection(s2))\n",
    "print(s1&s2)# same as intersection\n",
    "print(s1.difference(s2))\n",
    "print(s1-s2)# same as difference\n",
    "print(s2.difference(s1))\n",
    "print(s2-s1)# same as difference\n",
    "print(s1.symmetric_difference(s2))\n",
    "print(s1^s2)# same as symmetric_difference\n",
    "print(s1.issubset(s2))\n",
    "print(s1.issuperset(s2))\n",
    "s3=[1,2,3,4]\n",
    "s=frozenset(s3)\n",
    "print(s)"
   ]
  },
  {
   "cell_type": "markdown",
   "metadata": {},
   "source": [
    "# Lambda\n"
   ]
  },
  {
   "cell_type": "code",
   "execution_count": 12,
   "metadata": {},
   "outputs": [
    {
     "name": "stdout",
     "output_type": "stream",
     "text": [
      "25\n",
      "11\n",
      "odd\n"
     ]
    }
   ],
   "source": [
    "# normal function\n",
    "def square(n) :\n",
    "    return n*n\n",
    "print(square(5))\n",
    "# lambda unction\n",
    "y=lambda x,y : x+y\n",
    "print(y(5,6))\n",
    "a=lambda x : 'even' if x%2==0 else 'odd'\n",
    "print(a(5))\n"
   ]
  },
  {
   "cell_type": "markdown",
   "metadata": {},
   "source": [
    "# Map\n"
   ]
  },
  {
   "cell_type": "code",
   "execution_count": 19,
   "metadata": {},
   "outputs": [
    {
     "name": "stdout",
     "output_type": "stream",
     "text": [
      "[1, 2, 3, 4, 5]\n",
      "[1, 4, 9, 16, 25]\n"
     ]
    }
   ],
   "source": [
    "L=[x for x in range(1,6)]\n",
    "print(L)\n",
    "print(list(map(lambda x : x*x,L))) # map only works in list data structure"
   ]
  },
  {
   "cell_type": "markdown",
   "metadata": {},
   "source": [
    "# filter"
   ]
  },
  {
   "cell_type": "code",
   "execution_count": 21,
   "metadata": {},
   "outputs": [
    {
     "name": "stdout",
     "output_type": "stream",
     "text": [
      "[12, 7, 10]\n"
     ]
    }
   ],
   "source": [
    "l1=[2,12,5,7,2,10]\n",
    "b=list(filter(lambda x: x>5 ,l1))\n",
    "print(b)"
   ]
  },
  {
   "cell_type": "code",
   "execution_count": 23,
   "metadata": {},
   "outputs": [
    {
     "name": "stdout",
     "output_type": "stream",
     "text": [
      "[1, 2, 3, 4, 5, 6, 7]\n",
      "[-1, -2, -3, -4, -5, -6, -7]\n"
     ]
    }
   ],
   "source": [
    "l1=[1,2,3,4,5,6,7,-1,-2,-3,-4,-5,-6,-7]\n",
    "positive=list(filter(lambda x: x>0,l1))\n",
    "print(positive)\n",
    "negative=list(filter(lambda x: x<0,l1))\n",
    "print(negative)"
   ]
  },
  {
   "cell_type": "markdown",
   "metadata": {},
   "source": [
    "# Reduce"
   ]
  },
  {
   "cell_type": "code",
   "execution_count": 32,
   "metadata": {},
   "outputs": [
    {
     "name": "stdout",
     "output_type": "stream",
     "text": [
      "15\n"
     ]
    }
   ],
   "source": [
    "from functools import reduce\n",
    "l=[1,2,3,4,5]\n",
    "print(reduce(lambda x,y : x+y,l)) # two arguments mendatory."
   ]
  },
  {
   "cell_type": "code",
   "execution_count": 44,
   "metadata": {},
   "outputs": [
    {
     "name": "stdout",
     "output_type": "stream",
     "text": [
      "0 1\n",
      "1 2\n",
      "2 3\n",
      "3 4\n",
      "4 5\n",
      "5 6\n",
      "6 7\n",
      "['pqr', 'abc', 'xy', 'ab']\n"
     ]
    }
   ],
   "source": [
    "L=[1,2,3,4,5,6,7]\n",
    "for i,j in enumerate(L) : \n",
    "    print(i,j)\n",
    "l=['abc','ab','xy','pqr']\n",
    "l.sort(key=len)\n",
    "l.sort(reverse=True)\n",
    "l.sort(key=len,reverse=True)\n",
    "sorted(l,key=len)\n",
    "print(l)"
   ]
  }
 ],
 "metadata": {
  "kernelspec": {
   "display_name": "Python 3",
   "language": "python",
   "name": "python3"
  },
  "language_info": {
   "codemirror_mode": {
    "name": "ipython",
    "version": 3
   },
   "file_extension": ".py",
   "mimetype": "text/x-python",
   "name": "python",
   "nbconvert_exporter": "python",
   "pygments_lexer": "ipython3",
   "version": "3.8.5"
  }
 },
 "nbformat": 4,
 "nbformat_minor": 4
}
