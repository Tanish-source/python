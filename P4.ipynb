{
 "cells": [
  {
   "cell_type": "markdown",
   "metadata": {},
   "source": [
    "# Chapter-3 Functions and Scoping"
   ]
  },
  {
   "cell_type": "code",
   "execution_count": 92,
   "metadata": {},
   "outputs": [],
   "source": [
    "def add(a,b) :\n",
    "    return (a,b)"
   ]
  },
  {
   "cell_type": "code",
   "execution_count": 93,
   "metadata": {},
   "outputs": [
    {
     "name": "stdout",
     "output_type": "stream",
     "text": [
      "3 5\n"
     ]
    }
   ],
   "source": [
    "d,e=add(3,5)\n",
    "print(d,e)"
   ]
  },
  {
   "cell_type": "code",
   "execution_count": 94,
   "metadata": {},
   "outputs": [],
   "source": [
    "def sub(*args) :\n",
    "    count=0\n",
    "    for i in args : \n",
    "        count+=i\n",
    "    return count"
   ]
  },
  {
   "cell_type": "code",
   "execution_count": 96,
   "metadata": {},
   "outputs": [
    {
     "name": "stdout",
     "output_type": "stream",
     "text": [
      "55\n"
     ]
    }
   ],
   "source": [
    "s=sub(2,3,4,5,6,7,8,9,1,10)\n",
    "print(s)"
   ]
  },
  {
   "cell_type": "markdown",
   "metadata": {},
   "source": [
    "# wap to create a function to fetch nth value of a sequence where the sequence has 1,1,1,1,4,7,13"
   ]
  },
  {
   "cell_type": "code",
   "execution_count": 110,
   "metadata": {},
   "outputs": [],
   "source": [
    "def sum(num) : \n",
    "    a,b,c,d=1,1,1,1\n",
    "    ans=0\n",
    "    for i in range(1,num+1) :\n",
    "        if i<=4 : \n",
    "            ans=1\n",
    "        else :\n",
    "            ans=a+b+c+d\n",
    "            a=b\n",
    "            b=c\n",
    "            c=d\n",
    "            d=ans\n",
    "    return ans\n"
   ]
  },
  {
   "cell_type": "code",
   "execution_count": 112,
   "metadata": {},
   "outputs": [
    {
     "data": {
      "text/plain": [
       "1"
      ]
     },
     "execution_count": 112,
     "metadata": {},
     "output_type": "execute_result"
    }
   ],
   "source": [
    "sum(4)"
   ]
  },
  {
   "cell_type": "markdown",
   "metadata": {},
   "source": [
    "# Pattern"
   ]
  },
  {
   "cell_type": "code",
   "execution_count": 119,
   "metadata": {},
   "outputs": [
    {
     "name": "stdout",
     "output_type": "stream",
     "text": [
      "* \n",
      "* * \n",
      "* * * \n",
      "* * * * \n"
     ]
    }
   ],
   "source": [
    "for i in range(0,4) :\n",
    "    for j in range(i+1) :\n",
    "        print('*',end=\" \")\n",
    "    print()\n",
    "    \n",
    "for i in range(1,4+1) :\n",
    "    for j in range(i) :\n",
    "        print('*',end=\" \")\n",
    "    print()"
   ]
  },
  {
   "cell_type": "code",
   "execution_count": 1,
   "metadata": {},
   "outputs": [
    {
     "name": "stdout",
     "output_type": "stream",
     "text": [
      "        * \n",
      "      * * \n",
      "    * * * \n",
      "  * * * * \n",
      "* * * *   \n",
      "* * *     \n",
      "* *       \n",
      "*         \n"
     ]
    }
   ],
   "source": [
    "for i in range(4) :\n",
    "    for j in range(i,4) :\n",
    "        print(' ',end=\" \")\n",
    "    for k in range(i+1) :\n",
    "        print('*',end=\" \")\n",
    "    print()\n",
    "\n",
    "for i in range(4) :\n",
    "    for j in range(i,4) :\n",
    "        print('*',end=\" \")\n",
    "    for k in range(i+1) :\n",
    "        print(' ',end=\" \")\n",
    "    print()"
   ]
  },
  {
   "cell_type": "markdown",
   "metadata": {},
   "source": [
    "# Write a Python program to create a function to create patterns.\n",
    "# 1. Numbers\n",
    "# 2. Continuous Characters\n",
    "# 3. Character Triangle\n",
    "# 4. Triangle\n",
    "# 5. Star diamond"
   ]
  },
  {
   "cell_type": "code",
   "execution_count": 6,
   "metadata": {},
   "outputs": [
    {
     "name": "stdout",
     "output_type": "stream",
     "text": [
      "1 \n",
      "2 3 \n",
      "4 5 6 \n",
      "7 8 9 10 \n",
      "11 12 13 14 15 \n"
     ]
    }
   ],
   "source": [
    "#1.\n",
    "count=0\n",
    "for i in range(0,5) :\n",
    "    for j in range(i+1) :\n",
    "        count+=1\n",
    "        print(count,end=\" \")\n",
    "    print()"
   ]
  },
  {
   "cell_type": "code",
   "execution_count": 14,
   "metadata": {},
   "outputs": [
    {
     "name": "stdout",
     "output_type": "stream",
     "text": [
      "A \n",
      "B C \n",
      "D E F \n",
      "G H I J \n",
      "K L M N O \n"
     ]
    }
   ],
   "source": [
    "#2.\n",
    "count=64\n",
    "for i in range(0,5) :\n",
    "    for j in range(i+1) :\n",
    "        count+=1\n",
    "        print(chr(count),end=\" \")\n",
    "    print()"
   ]
  },
  {
   "cell_type": "code",
   "execution_count": 15,
   "metadata": {},
   "outputs": [
    {
     "name": "stdout",
     "output_type": "stream",
     "text": [
      "A \n",
      "B B \n",
      "C C C \n",
      "D D D D \n",
      "E E E E E \n"
     ]
    }
   ],
   "source": [
    "#3.\n",
    "count=64\n",
    "for i in range(0,5) :\n",
    "    count+=1\n",
    "    for j in range(i+1) :   \n",
    "        print(chr(count),end=\" \")\n",
    "    print()"
   ]
  },
  {
   "cell_type": "code",
   "execution_count": 26,
   "metadata": {},
   "outputs": [
    {
     "name": "stdout",
     "output_type": "stream",
     "text": [
      "     *\n",
      "    **\n",
      "   ****\n",
      "  ******\n",
      " ********\n"
     ]
    }
   ],
   "source": [
    "#4.\n",
    "for i in range(5) :\n",
    "    for j in range(i,5) :\n",
    "        print(' ',end=\"\")\n",
    "    for k in range(i+1) :\n",
    "        print('*',end=\"\")\n",
    "    for l in range(1,i+1) :\n",
    "        print(\"*\",end=\"\")\n",
    "    print()"
   ]
  },
  {
   "cell_type": "code",
   "execution_count": 1,
   "metadata": {},
   "outputs": [
    {
     "name": "stdout",
     "output_type": "stream",
     "text": [
      "*       * \n",
      "* *   * * \n",
      "* * * * * \n",
      "* *   * * \n",
      "*       * \n",
      "          \n"
     ]
    }
   ],
   "source": [
    "#5.\n",
    "n=int(input(\"enter a number : \"))\n",
    "for i in range(1,n) :\n",
    "    for j in range(0,i) :\n",
    "        print('*',end=\" \")\n",
    "    for j in range(n,i,-1) :\n",
    "        print(' ',end=\" \")\n",
    "    for j in range(n,i+1,-1) :\n",
    "        print(' ',end=\" \")\n",
    "    for j in range(0,i) :\n",
    "        print('*',end=\" \")\n",
    "    print()\n",
    "print((n*2-1)*\"* \")\n",
    "for i in range(1,n+1) :\n",
    "    for j in range(n,i,-1) :\n",
    "        print('*',end=\" \")\n",
    "    for j in range(1,i+1) :\n",
    "        print(' ',end=\" \")\n",
    "    for j in range(1,i) :\n",
    "        print(' ',end=\" \")\n",
    "    for j in range(n,i,-1) :\n",
    "        print('*',end=\" \")\n",
    "    print()"
   ]
  },
  {
   "cell_type": "code",
   "execution_count": null,
   "metadata": {},
   "outputs": [
    {
     "name": "stdout",
     "output_type": "stream",
     "text": [
      "Enter the name of Team 1 (or type 'exit' to stop): abc\n",
      "Enter the name of Team 2: def\n",
      "Enter the score of Team 1: 2\n",
      "Enter the score of Team 2: 1\n",
      "Updated Points Table:\n",
      "Team\tMatches Played\tPoints\n",
      "abc\t1\t\t3\n",
      "def\t1\t\t0\n"
     ]
    }
   ],
   "source": [
    "\n",
    "# Global Variables for Team 1\n",
    "team1_name = \"\"\n",
    "team1_matches = 0\n",
    "team1_points = 0\n",
    "\n",
    "# Global Variables for Team 2\n",
    "team2_name = \"\"\n",
    "team2_matches = 0\n",
    "team2_points = 0\n",
    "\n",
    "def add_teams(name1, name2):\n",
    "    global team1_name, team2_name\n",
    "    team1_name = name1\n",
    "    team2_name = name2\n",
    "\n",
    "def record_match(score1, score2):\n",
    "    global team1_matches, team2_matches, team1_points, team2_points\n",
    "    team1_matches += 1\n",
    "    team2_matches += 1\n",
    "    \n",
    "    if score1 > score2:  # Team 1 wins\n",
    "        team1_points += 3\n",
    "    elif score2 > score1:  # Team 2 wins\n",
    "        team2_points += 3\n",
    "    else:  # Draw\n",
    "        team1_points += 1\n",
    "        team2_points += 1\n",
    "\n",
    "def display_points_table():\n",
    "    print(\"Updated Points Table:\")\n",
    "    print(\"Team\\tMatches Played\\tPoints\")\n",
    "    print(f\"{team1_name}\\t{team1_matches}\\t\\t{team1_points}\")\n",
    "    print(f\"{team2_name}\\t{team2_matches}\\t\\t{team2_points}\")\n",
    "\n",
    "def main():\n",
    "    while True:\n",
    "        team1 = input(\"Enter the name of Team 1 (or type 'exit' to stop): \")\n",
    "        if team1.lower() == 'exit':\n",
    "            break\n",
    "        team2 = input(\"Enter the name of Team 2: \")\n",
    "        score1 = int(input(\"Enter the score of Team 1: \"))\n",
    "        score2 = int(input(\"Enter the score of Team 2: \"))\n",
    "        \n",
    "        add_teams(team1, team2)\n",
    "        record_match(score1, score2)\n",
    "        display_points_table()\n",
    "\n",
    "    print(\"Final Points Table:\")\n",
    "    display_points_table()\n",
    "\n",
    "if __name__ == \"__main__\":\n",
    "    main()"
   ]
  }
 ],
 "metadata": {
  "kernelspec": {
   "display_name": "Python 3",
   "language": "python",
   "name": "python3"
  },
  "language_info": {
   "codemirror_mode": {
    "name": "ipython",
    "version": 3
   },
   "file_extension": ".py",
   "mimetype": "text/x-python",
   "name": "python",
   "nbconvert_exporter": "python",
   "pygments_lexer": "ipython3",
   "version": "3.13.0"
  }
 },
 "nbformat": 4,
 "nbformat_minor": 4
}
