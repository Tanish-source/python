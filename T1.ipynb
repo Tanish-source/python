{
 "cells": [
  {
   "cell_type": "markdown",
   "metadata": {},
   "source": [
    "#  PB-54 : Write a Python program to add 2 Numbers with user input."
   ]
  },
  {
   "cell_type": "code",
   "execution_count": null,
   "metadata": {},
   "outputs": [],
   "source": [
    "# Get input from the user\n",
    "num1 = float(input(\"Enter the first number: \"))\n",
    "num2 = float(input(\"Enter the second number: \"))\n",
    "\n",
    "# Add the two numbers\n",
    "sum = num1 + num2\n",
    "\n",
    "# Print the result\n",
    "print(\"The sum of\", num1, \"and\", num2, \"is:\", sum)\n"
   ]
  },
  {
   "cell_type": "markdown",
   "metadata": {},
   "source": [
    "# PB-55 : Write a Python program to find the area of Circle"
   ]
  },
  {
   "cell_type": "code",
   "execution_count": null,
   "metadata": {},
   "outputs": [],
   "source": [
    "import math\n",
    "\n",
    "# Get the radius from the user\n",
    "radius = float(input(\"Enter the radius of the circle: \"))\n",
    "\n",
    "# Calculate the area using the formula: Area = π * r^2\n",
    "area = math.pi * radius ** 2\n",
    "\n",
    "# Print the result\n",
    "print(f\"The area of the circle with radius {radius} is: {area}\")\n"
   ]
  },
  {
   "cell_type": "markdown",
   "metadata": {},
   "source": [
    "# PB-56 : Write a Python program to find the area of Triangle.\n"
   ]
  },
  {
   "cell_type": "code",
   "execution_count": null,
   "metadata": {},
   "outputs": [],
   "source": [
    "# Get the base and height from the user\n",
    "base = float(input(\"Enter the base of the triangle: \"))\n",
    "height = float(input(\"Enter the height of the triangle: \"))\n",
    "\n",
    "# Calculate the area using the formula: Area = (base * height) / 2\n",
    "area = (base * height) / 2\n",
    "\n",
    "# Print the result\n",
    "print(f\"The area of the triangle with base {base} and height {height} is: {area}\")\n"
   ]
  },
  {
   "cell_type": "markdown",
   "metadata": {},
   "source": [
    "# PB-57 : Write a Python program to calculate the area of a trapezoid."
   ]
  },
  {
   "cell_type": "code",
   "execution_count": null,
   "metadata": {},
   "outputs": [],
   "source": [
    "# Get the lengths of the two bases and the height from the user\n",
    "base1 = float(input(\"Enter the length of the first base (b1): \"))\n",
    "base2 = float(input(\"Enter the length of the second base (b2): \"))\n",
    "height = float(input(\"Enter the height of the trapezoid: \"))\n",
    "\n",
    "# Calculate the area using the formula: Area = ((base1 + base2) / 2) * height\n",
    "area = ((base1 + base2) / 2) * height\n",
    "\n",
    "# Print the result\n",
    "print(f\"The area of the trapezoid with bases {base1} and {base2} and height {height} is: {area}\")\n"
   ]
  },
  {
   "cell_type": "markdown",
   "metadata": {},
   "source": [
    "# PB-58 : Write a Python program to calculate surface volume and area of a cylinder."
   ]
  },
  {
   "cell_type": "code",
   "execution_count": null,
   "metadata": {},
   "outputs": [],
   "source": [
    "import math\n",
    "\n",
    "# Get the radius and height from the user\n",
    "radius = float(input(\"Enter the radius of the cylinder: \"))\n",
    "height = float(input(\"Enter the height of the cylinder: \"))\n",
    "\n",
    "# Calculate the volume using the formula: Volume = π * r^2 * h\n",
    "volume = math.pi * radius ** 2 * height\n",
    "\n",
    "# Calculate the surface area using the formula: Surface Area = 2πrh + 2πr^2\n",
    "surface_area = 2 * math.pi * radius * height + 2 * math.pi * radius ** 2\n",
    "\n",
    "# Print the results\n",
    "print(f\"The volume of the cylinder with radius {radius} and height {height} is: {volume}\")\n",
    "print(f\"The surface area of the cylinder with radius {radius} and height {height} is: {surface_area}\")\n"
   ]
  },
  {
   "cell_type": "markdown",
   "metadata": {},
   "source": [
    "# PB-59 : Write a Python program to convert Fahrenheit to Celsius and vice versa."
   ]
  },
  {
   "cell_type": "code",
   "execution_count": null,
   "metadata": {},
   "outputs": [],
   "source": [
    "# User input for conversion choice\n",
    "choice = input(\"Type 'F' to convert Fahrenheit to Celsius or 'C' to convert Celsius to Fahrenheit: \")\n",
    "\n",
    "# Check the input directly without using strip() or upper()\n",
    "if choice == 'F' or choice == 'f':\n",
    "    # Get temperature in Fahrenheit from the user\n",
    "    fahrenheit = float(input(\"Enter temperature in Fahrenheit: \"))\n",
    "    \n",
    "    # Convert Fahrenheit to Celsius\n",
    "    celsius = (fahrenheit - 32) * 5 / 9\n",
    "    \n",
    "    # Print the result\n",
    "    print(f\"{fahrenheit} °F is equal to {celsius:.2f} °C\")\n",
    "\n",
    "elif choice == 'C' or choice == 'c':\n",
    "    # Get temperature in Celsius from the user\n",
    "    celsius = float(input(\"Enter temperature in Celsius: \"))\n",
    "    \n",
    "    # Convert Celsius to Fahrenheit\n",
    "    fahrenheit = (celsius * 9 / 5) + 32\n",
    "    \n",
    "    # Print the result\n",
    "    print(f\"{celsius} °C is equal to {fahrenheit:.2f} °F\")\n",
    "\n",
    "else:\n",
    "    print(\"Invalid choice! Please enter 'F' or 'C'.\")\n"
   ]
  },
  {
   "cell_type": "markdown",
   "metadata": {},
   "source": [
    "# PB-60 : Write a python code to demonstrate calculator functionality."
   ]
  },
  {
   "cell_type": "code",
   "execution_count": null,
   "metadata": {},
   "outputs": [],
   "source": [
    "# Welcome message\n",
    "print(\"Welcome to the Calculator!\")\n",
    "print(\"Select operation:\")\n",
    "print(\"1. Addition\")\n",
    "print(\"2. Subtraction\")\n",
    "print(\"3. Multiplication\")\n",
    "print(\"4. Division\")\n",
    "\n",
    "# Get user choice\n",
    "choice = input(\"Enter choice (1/2/3/4): \")\n",
    "\n",
    "# Check if the choice is one of the valid options\n",
    "if choice in ['1', '2', '3', '4']:\n",
    "    # Get user input for numbers\n",
    "    num1 = float(input(\"Enter first number: \"))\n",
    "    num2 = float(input(\"Enter second number: \"))\n",
    "\n",
    "    if choice == '1':\n",
    "        result = num1 + num2\n",
    "        print(f\"{num1} + {num2} = {result}\")\n",
    "\n",
    "    elif choice == '2':\n",
    "        result = num1 - num2\n",
    "        print(f\"{num1} - {num2} = {result}\")\n",
    "\n",
    "    elif choice == '3':\n",
    "        result = num1 * num2\n",
    "        print(f\"{num1} * {num2} = {result}\")\n",
    "\n",
    "    elif choice == '4':\n",
    "        # Check for division by zero\n",
    "        if num2 != 0:\n",
    "            result = num1 / num2\n",
    "            print(f\"{num1} / {num2} = {result}\")\n",
    "        else:\n",
    "            print(\"Error! Division by zero is not allowed.\")\n",
    "else:\n",
    "    print(\"Invalid choice! Please select a valid operation.\")\n"
   ]
  },
  {
   "cell_type": "markdown",
   "metadata": {},
   "source": [
    "# PB-61 : Write a python program to convert Days into Years, Months and Days. (Ex: if input of Days = 370 then output will be, years=1, months=0 and days = 5)."
   ]
  },
  {
   "cell_type": "code",
   "execution_count": null,
   "metadata": {},
   "outputs": [],
   "source": [
    "day=int(input(\"enter your days : \"))\n",
    "# year=int(day/365)\n",
    "# print(year)\n",
    "# month=int((day-(year*365))/30)\n",
    "# print(month)\n",
    "# days=int(day-((365*year)+(30*month)))\n",
    "# print(days)\n",
    "print(day//365,\"years\",(day%365)//30,\"month\",day%365%30,\"days\")"
   ]
  },
  {
   "cell_type": "markdown",
   "metadata": {},
   "source": [
    "# PB-62 : Write a Python program to convert hours into minutes and seconds (Ex : input of hours = 6 then output will be, minutes = 360 and seconds = 21600 )."
   ]
  },
  {
   "cell_type": "code",
   "execution_count": null,
   "metadata": {},
   "outputs": [],
   "source": [
    "# Get user input for hours\n",
    "hours = float(input(\"Enter the number of hours: \"))\n",
    "\n",
    "# Convert hours to minutes and seconds\n",
    "minutes = hours * 60\n",
    "seconds = hours * 3600\n",
    "\n",
    "# Print the results\n",
    "print(f\"Minutes = {int(minutes)}\")\n",
    "print(f\"Seconds = {int(seconds)}\")\n"
   ]
  },
  {
   "cell_type": "markdown",
   "metadata": {},
   "source": [
    "#   PB-63 : Write a Python program to find an integer exponent x such that a^x = n.\n",
    "# Input:\n",
    "# a = 2 : n = 1024\n",
    "# Output:\n",
    "# 10\n",
    "# Input:\n",
    "# a = 3 : n = 81\n",
    "# Output:\n",
    "# 4"
   ]
  },
  {
   "cell_type": "code",
   "execution_count": 11,
   "metadata": {},
   "outputs": [
    {
     "name": "stdout",
     "output_type": "stream",
     "text": [
      "5 power 2 : 25\n"
     ]
    }
   ],
   "source": [
    "num=int(input(\"enter num : \"))\n",
    "temp=num\n",
    "a=int(input(\"enter base : \"))\n",
    "count=0\n",
    "while num>0 :\n",
    "    num=num//a\n",
    "    count+=1\n",
    "print(f\"{a} power {count-1} : {temp}\")"
   ]
  },
  {
   "cell_type": "markdown",
   "metadata": {},
   "source": [
    "# PB-152 : Write a program to determine a given number is ‘odd’ or ‘even’ and print the following message “Number is ODD” or “Number is Even”."
   ]
  },
  {
   "cell_type": "code",
   "execution_count": 34,
   "metadata": {},
   "outputs": [
    {
     "name": "stdout",
     "output_type": "stream",
     "text": [
      "Number is Even\n"
     ]
    }
   ],
   "source": [
    "# Accepting input from the user\n",
    "num = int(input(\"Enter a number: \"))\n",
    "\n",
    "# Checking if the number is odd or even\n",
    "if num % 2 == 0:\n",
    "    print(\"Number is Even\")\n",
    "else:\n",
    "    print(\"Number is ODD\")"
   ]
  },
  {
   "cell_type": "markdown",
   "metadata": {},
   "source": [
    "# PB-153 : Write a program to check if the input number is positive, negative or zero. "
   ]
  },
  {
   "cell_type": "code",
   "execution_count": 38,
   "metadata": {},
   "outputs": [
    {
     "name": "stdout",
     "output_type": "stream",
     "text": [
      "The number is positive.\n"
     ]
    }
   ],
   "source": [
    "# Accepting input from the user\n",
    "num = float(input(\"Enter a number: \"))\n",
    "\n",
    "# Checking if the number is positive, negative, or zero\n",
    "if num > 0:\n",
    "    print(\"The number is positive.\")\n",
    "elif num < 0:\n",
    "    print(\"The number is negative.\")\n",
    "else:\n",
    "    print(\"The number is zero.\")"
   ]
  },
  {
   "cell_type": "markdown",
   "metadata": {},
   "source": [
    "# PB-154 : Write a program to find the maximum number among the three input numbers."
   ]
  },
  {
   "cell_type": "code",
   "execution_count": 40,
   "metadata": {},
   "outputs": [
    {
     "name": "stdout",
     "output_type": "stream",
     "text": [
      "The maximum number is: -3.0\n"
     ]
    }
   ],
   "source": [
    "# Accepting three numbers from the user\n",
    "num1 = float(input(\"Enter the first number: \"))\n",
    "num2 = float(input(\"Enter the second number: \"))\n",
    "num3 = float(input(\"Enter the third number: \"))\n",
    "\n",
    "# Finding the maximum number\n",
    "if num1 >= num2 and num1 >= num3:\n",
    "    print(f\"The maximum number is: {num1}\")\n",
    "elif num2 >= num1 and num2 >= num3:\n",
    "    print(f\"The maximum number is: {num2}\")\n",
    "else:\n",
    "    print(f\"The maximum number is: {num3}\")"
   ]
  },
  {
   "cell_type": "markdown",
   "metadata": {},
   "source": [
    "# PB-155 : Write a program to check if year is a leap year or not (Nested If)."
   ]
  },
  {
   "cell_type": "code",
   "execution_count": null,
   "metadata": {},
   "outputs": [],
   "source": [
    "year=int(input(\"enter a year : \"))\n",
    "if (year%4==0 and year%100!=0) or (year%400==0) :\n",
    "    print(\"entered year is a leap year.\")\n",
    "else :\n",
    "     print(\"entered year is not a leap year.\")\n",
    "\n",
    "\n",
    "    #  or\n",
    "\n",
    "\n",
    "year = int(input(\"Enter a year: \"))\n",
    "if year % 4 == 0:\n",
    "    if year % 100 == 0:\n",
    "        if year % 400 == 0:\n",
    "            print(f\"{year} is a leap year.\")\n",
    "        else:\n",
    "            print(f\"{year} is not a leap year.\")\n",
    "    else:\n",
    "        print(f\"{year} is a leap year.\")\n",
    "else:\n",
    "    print(f\"{year} is not a leap year.\")\n"
   ]
  },
  {
   "cell_type": "markdown",
   "metadata": {},
   "source": [
    "# PB-156 : Write a program to find sum of first N natural numbers given by user."
   ]
  },
  {
   "cell_type": "code",
   "execution_count": null,
   "metadata": {},
   "outputs": [],
   "source": [
    "# Accepting input from the user\n",
    "N = int(input(\"Enter a positive integer: \"))\n",
    "\n",
    "# Initializing the sum\n",
    "sum_of_natural_numbers = 0\n",
    "\n",
    "# Calculating the sum of the first N natural numbers\n",
    "for i in range(1, N + 1):\n",
    "    sum_of_natural_numbers += i\n",
    "\n",
    "# Displaying the result\n",
    "print(f\"The sum of the first {N} natural numbers is: {sum_of_natural_numbers}\")"
   ]
  },
  {
   "cell_type": "markdown",
   "metadata": {},
   "source": [
    "# PB-157 : Write a program to find average of first N natural numbers given by user."
   ]
  },
  {
   "cell_type": "code",
   "execution_count": null,
   "metadata": {},
   "outputs": [],
   "source": [
    "# Accepting input from the user\n",
    "N = int(input(\"Enter a positive integer: \"))\n",
    "\n",
    "# Initializing the sum\n",
    "sum_of_natural_numbers = 0\n",
    "\n",
    "# Calculating the sum of the first N natural numbers\n",
    "for i in range(1, N + 1):\n",
    "    sum_of_natural_numbers += i\n",
    "\n",
    "# Calculating the average\n",
    "average = sum_of_natural_numbers / N\n",
    "\n",
    "# Displaying the result\n",
    "print(f\"The average of the first {N} natural numbers is: {average}\")"
   ]
  },
  {
   "cell_type": "markdown",
   "metadata": {},
   "source": [
    "# PB-158 :  Write a python program to read three numbers (a,b,c) and check how many numbers between ‘a’ and ‘b’ are divisible by ‘c’."
   ]
  },
  {
   "cell_type": "code",
   "execution_count": null,
   "metadata": {},
   "outputs": [],
   "source": [
    "# Accepting the values of a, b, and c from the user\n",
    "a = int(input(\"Enter the value of a (start of the range): \"))\n",
    "b = int(input(\"Enter the value of b (end of the range): \"))\n",
    "c = int(input(\"Enter the value of c (divisor): \"))\n",
    "\n",
    "# Initialize a counter for divisible numbers\n",
    "count = 0\n",
    "\n",
    "# Loop through numbers between a and b (inclusive)\n",
    "for i in range(a, b + 1):\n",
    "    if i % c == 0:\n",
    "        count += 1\n",
    "\n",
    "# Display the result\n",
    "print(f\"There are {count} numbers between {a} and {b} that are divisible by {c}.\")"
   ]
  },
  {
   "cell_type": "markdown",
   "metadata": {},
   "source": [
    "# PB-159 :  Write a Python program that prints all the numbers from 0 to 6 except 3 and 6."
   ]
  },
  {
   "cell_type": "code",
   "execution_count": null,
   "metadata": {},
   "outputs": [],
   "source": [
    "for i in range(7):\n",
    "    if i == 3 or i == 6:\n",
    "        continue\n",
    "    print(i)"
   ]
  },
  {
   "cell_type": "markdown",
   "metadata": {},
   "source": [
    "# PB-160 : Write a Python program to print the multiplication table of given number by user."
   ]
  },
  {
   "cell_type": "code",
   "execution_count": null,
   "metadata": {},
   "outputs": [],
   "source": [
    "number = int(input(\"Enter a number to print its multiplication table: \"))\n",
    "print(f\"Multiplication Table of {number}:\")\n",
    "for i in range(1, 11):\n",
    "    result = number * i\n",
    "    print(f\"{number} x {i} = {result}\")"
   ]
  },
  {
   "cell_type": "markdown",
   "metadata": {},
   "source": [
    "# PB-161 : Write a program to find the factorial of a number provided by the user."
   ]
  },
  {
   "cell_type": "code",
   "execution_count": null,
   "metadata": {},
   "outputs": [],
   "source": [
    "number = int(input(\"Enter a non-negative integer: \"))\n",
    "\n",
    "factorial = 1\n",
    "\n",
    "if number < 0:\n",
    "    print(\"Factorial is not defined for negative numbers.\")\n",
    "else:\n",
    "    for i in range(1, number + 1):\n",
    "        factorial *= i\n",
    "    print(f\"The factorial of {number} is: {factorial}\")\n"
   ]
  },
  {
   "cell_type": "markdown",
   "metadata": {},
   "source": [
    "# PB-162 : Write a python program to display the Fibonacci sequence up to n-th term."
   ]
  },
  {
   "cell_type": "code",
   "execution_count": 42,
   "metadata": {},
   "outputs": [
    {
     "name": "stdout",
     "output_type": "stream",
     "text": [
      "The first 6 terms of the Fibonacci sequence are:\n",
      "0 1 1 2 3 5 "
     ]
    }
   ],
   "source": [
    "n = int(input(\"Enter the number of terms in the Fibonacci sequence: \"))\n",
    "\n",
    "if n <= 0:\n",
    "    print(\"Please enter a positive integer.\")\n",
    "else:\n",
    "    print(f\"The first {n} terms of the Fibonacci sequence are:\")\n",
    "    a, b = 0, 1\n",
    "    for i in range(n):\n",
    "        print(a, end=\" \")\n",
    "        a, b = b, a + b "
   ]
  },
  {
   "cell_type": "markdown",
   "metadata": {},
   "source": [
    "# PB-163 : Write a program to take 10 values from keyboard using loop and print their average on the screen"
   ]
  },
  {
   "cell_type": "code",
   "execution_count": null,
   "metadata": {},
   "outputs": [],
   "source": [
    "total = 0\n",
    "\n",
    "for i in range(10):\n",
    "    number = float(input(f\"Enter value {i + 1}: \"))\n",
    "    total += number\n",
    "\n",
    "average = total / 10\n",
    "\n",
    "print(f\"The average of the entered values is: {average}\")"
   ]
  },
  {
   "cell_type": "markdown",
   "metadata": {},
   "source": [
    "# PB-164 : Write a program to reverse a number."
   ]
  },
  {
   "cell_type": "code",
   "execution_count": 43,
   "metadata": {},
   "outputs": [
    {
     "name": "stdout",
     "output_type": "stream",
     "text": [
      "321\n"
     ]
    }
   ],
   "source": [
    "num=int(input(\"enter a number to get the reverse number : \"))\n",
    "sum=0\n",
    "while num>0 : \n",
    "    r=num%10\n",
    "    sum=sum*10+r\n",
    "    num=num//10\n",
    "print(sum)"
   ]
  },
  {
   "cell_type": "markdown",
   "metadata": {},
   "source": [
    "# PB-165 : Write a program to check whether a number is Armstrong number or not."
   ]
  },
  {
   "cell_type": "code",
   "execution_count": null,
   "metadata": {},
   "outputs": [],
   "source": [
    "num=int(input(\"enter a number : \"))\n",
    "temp=num\n",
    "a=num\n",
    "count=0\n",
    "sum=0\n",
    "\n",
    "while a>0 :\n",
    "    a=a//10\n",
    "    count+=1\n",
    "while temp>0 :\n",
    "    r=temp%10\n",
    "    sum=sum+(r**count)\n",
    "    temp=temp//10\n",
    "if sum==num :\n",
    "    print(\"entered number is an armstrong number.\")\n",
    "else :\n",
    "    print(\"entered number is not an armstrong number.\")"
   ]
  },
  {
   "cell_type": "markdown",
   "metadata": {},
   "source": [
    "# PB-166 : Write a program to check if a number is prime or not."
   ]
  },
  {
   "cell_type": "code",
   "execution_count": 1,
   "metadata": {},
   "outputs": [
    {
     "name": "stdout",
     "output_type": "stream",
     "text": [
      "4 is not a prime number.\n"
     ]
    }
   ],
   "source": [
    "# Input the number from the user\n",
    "number = int(input(\"Enter a number: \"))\n",
    "\n",
    "# Prime numbers are greater than 1\n",
    "if number > 1:\n",
    "    # Check if the number is divisible by any number between 2 and number - 1\n",
    "    for i in range(2, number):\n",
    "        if number % i == 0:\n",
    "            print(f\"{number} is not a prime number.\")\n",
    "            break\n",
    "    else:\n",
    "        print(f\"{number} is a prime number.\")\n",
    "else:\n",
    "    print(f\"{number} is not a prime number.\")"
   ]
  },
  {
   "cell_type": "markdown",
   "metadata": {},
   "source": [
    "# PB-167 :  Write a program to print prime numbers between given interval from user"
   ]
  },
  {
   "cell_type": "code",
   "execution_count": null,
   "metadata": {},
   "outputs": [],
   "source": [
    "start = int(input(\"Enter the start of the interval: \"))\n",
    "end = int(input(\"Enter the end of the interval: \"))\n",
    "\n",
    "print(f\"Prime numbers between {start} and {end} are:\")\n",
    "\n",
    "def is_prime(num):\n",
    "    if num <= 1:\n",
    "        return False\n",
    "    elif num == 2:\n",
    "        return True\n",
    "    for i in range(2, num):\n",
    "        if num % i == 0:\n",
    "            return False\n",
    "    return True\n",
    "\n",
    "for num in range(start, end + 1):\n",
    "    if is_prime(num):\n",
    "        print(num, end=\" \")"
   ]
  },
  {
   "cell_type": "code",
   "execution_count": 51,
   "metadata": {},
   "outputs": [
    {
     "name": "stdout",
     "output_type": "stream",
     "text": [
      "*\n",
      "**\n",
      "***\n",
      "****\n",
      "*****\n",
      "*****\n",
      "****\n",
      "***\n",
      "**\n",
      "*\n"
     ]
    }
   ],
   "source": [
    "# PB-168 and PB-171\n",
    "n=int(input(\"enter no of rows : \"))\n",
    "#Increasing\n",
    "for i in range(1,n+1) : \n",
    "    for j in range(1,i+1) : \n",
    "        print('*',end=\"\")\n",
    "    print()\n",
    "\n",
    "#Decreasing    \n",
    "for i in range(1,n+1) : \n",
    "    for j in range(i,n+1) : \n",
    "        print('*',end=\"\")\n",
    "    print()\n"
   ]
  },
  {
   "cell_type": "code",
   "execution_count": 57,
   "metadata": {},
   "outputs": [
    {
     "name": "stdout",
     "output_type": "stream",
     "text": [
      "*****\n",
      " ****\n",
      "  ***\n",
      "   **\n",
      "    *\n"
     ]
    }
   ],
   "source": [
    "# PB-169\n",
    "n=int(input(\"enter no of rows : \"))\n",
    "for i in range(1,n+1) : \n",
    "    for j in range(1,i) : \n",
    "        print(' ',end=\"\")\n",
    "    for j in range(i,n+1) :\n",
    "         print('*',end=\"\")\n",
    "    print()"
   ]
  },
  {
   "cell_type": "code",
   "execution_count": 86,
   "metadata": {},
   "outputs": [
    {
     "name": "stdout",
     "output_type": "stream",
     "text": [
      "    * \n",
      "   * * \n",
      "  * * * \n",
      " * * * * \n",
      "* * * * * \n"
     ]
    }
   ],
   "source": [
    "# PB-170\n",
    "n=int(input(\"enter no of rows : \"))\n",
    "for i in range(1,n+1) : \n",
    "    for j in range(i,n) : \n",
    "        print(\" \",end=\"\")\n",
    "    for j in range(1,i+1) : \n",
    "        print(\"*\",end=\" \")\n",
    "    print()"
   ]
  },
  {
   "cell_type": "code",
   "execution_count": 92,
   "metadata": {},
   "outputs": [
    {
     "name": "stdout",
     "output_type": "stream",
     "text": [
      "1 2 3 4 5 \n",
      "1 2 3 4 \n",
      "1 2 3 \n",
      "1 2 \n",
      "1 \n"
     ]
    }
   ],
   "source": [
    "# PB-172\n",
    "n=int(input(\"enter no of rows : \"))\n",
    "for i in range(1,n+1) : \n",
    "    k=1\n",
    "    for j in range(i,n+1) : \n",
    "        print(k,end=\" \")\n",
    "        k+=1\n",
    "    print()"
   ]
  },
  {
   "cell_type": "code",
   "execution_count": 90,
   "metadata": {},
   "outputs": [
    {
     "name": "stdout",
     "output_type": "stream",
     "text": [
      "1 \n",
      "1 2 \n",
      "1 2 3 \n",
      "1 2 3 4 \n",
      "1 2 3 4 5 \n"
     ]
    }
   ],
   "source": [
    "# PB-173\n",
    "n=int(input(\"enter no of rows : \"))\n",
    "for i in range(1,n+1) : \n",
    "    k=1\n",
    "    for j in range(1,i+1) : \n",
    "        print(k,end=\" \")\n",
    "        k+=1\n",
    "    print()"
   ]
  },
  {
   "cell_type": "code",
   "execution_count": 89,
   "metadata": {},
   "outputs": [
    {
     "name": "stdout",
     "output_type": "stream",
     "text": [
      "1 \n",
      "2 2 \n",
      "3 3 3 \n",
      "4 4 4 4 \n",
      "5 5 5 5 5 \n"
     ]
    }
   ],
   "source": [
    "# PB-174\n",
    "n=int(input(\"enter no of rows : \"))\n",
    "for i in range(1,n+1) : \n",
    "    for j in range(1,i+1) : \n",
    "        print(i,end=\" \")\n",
    "    print()"
   ]
  },
  {
   "cell_type": "code",
   "execution_count": 80,
   "metadata": {},
   "outputs": [
    {
     "name": "stdout",
     "output_type": "stream",
     "text": [
      "* \n",
      "# # \n",
      "* * * \n",
      "# # # # \n",
      "* * * * * \n"
     ]
    }
   ],
   "source": [
    "# PB-175\n",
    "n=int(input(\"enter no of rows : \"))\n",
    "for i in range(1,n+1) : \n",
    "    for j in range(1,i+1) : \n",
    "        if i%2==0 : \n",
    "            print(\"#\",end=\" \")\n",
    "        else : \n",
    "            print(\"*\",end=\" \")\n",
    "    print()"
   ]
  },
  {
   "cell_type": "code",
   "execution_count": 81,
   "metadata": {},
   "outputs": [
    {
     "name": "stdout",
     "output_type": "stream",
     "text": [
      "1 \n",
      "0 1 \n",
      "1 0 1 \n",
      "0 1 0 1 \n",
      "1 0 1 0 1 \n"
     ]
    }
   ],
   "source": [
    "# PB-176\n",
    "n=int(input(\"enter no of rows : \"))\n",
    "for i in range(1,n+1) : \n",
    "    for j in range(1,i+1) : \n",
    "        if (i+j)%2==0 : \n",
    "            print(\"1\",end=\" \")\n",
    "        else : \n",
    "            print(\"0\",end=\" \")\n",
    "    print()"
   ]
  },
  {
   "cell_type": "code",
   "execution_count": 97,
   "metadata": {},
   "outputs": [
    {
     "name": "stdout",
     "output_type": "stream",
     "text": [
      "    1 \n",
      "   1 2 \n",
      "  1 2 3 \n",
      " 1 2 3 4 \n",
      "1 2 3 4 5 \n"
     ]
    }
   ],
   "source": [
    "# PB-177\n",
    "n=int(input(\"enter no of rows : \"))\n",
    "for i in range(1,n+1) : \n",
    "    for j in range(i,n) : \n",
    "        print(\" \",end=\"\")\n",
    "    for j in range(1,i+1) : \n",
    "        print(j,end=\" \")\n",
    "    print()"
   ]
  },
  {
   "cell_type": "code",
   "execution_count": 98,
   "metadata": {},
   "outputs": [
    {
     "name": "stdout",
     "output_type": "stream",
     "text": [
      "    1 \n",
      "   2 2 \n",
      "  3 3 3 \n",
      " 4 4 4 4 \n",
      "5 5 5 5 5 \n"
     ]
    }
   ],
   "source": [
    "# PB-178\n",
    "n=int(input(\"enter no of rows : \"))\n",
    "for i in range(1,n+1) : \n",
    "    for j in range(i,n) : \n",
    "        print(\" \",end=\"\")\n",
    "    for j in range(1,i+1) : \n",
    "        print(i,end=\" \")\n",
    "    print()"
   ]
  },
  {
   "cell_type": "code",
   "execution_count": 99,
   "metadata": {},
   "outputs": [
    {
     "name": "stdout",
     "output_type": "stream",
     "text": [
      "    * \n",
      "   # # \n",
      "  * * * \n",
      " # # # # \n",
      "* * * * * \n"
     ]
    }
   ],
   "source": [
    "# PB-179\n",
    "n=int(input(\"enter no of rows : \"))\n",
    "for i in range(1,n+1) : \n",
    "    for j in range(i,n) : \n",
    "        print(\" \",end=\"\")\n",
    "    for j in range(1,i+1) : \n",
    "        if i%2==0 : \n",
    "            print(\"#\",end=\" \")\n",
    "        else : \n",
    "            print(\"*\",end=\" \")\n",
    "    print()"
   ]
  },
  {
   "cell_type": "code",
   "execution_count": null,
   "metadata": {},
   "outputs": [],
   "source": [
    "# PB-180\n",
    "gradelevel=input(\"Enter Grade level : \")\n",
    "city=int(input(\"ENetr number of city : \"))\n",
    "gpA=0\n",
    "apA=0\n",
    "if (gradelevel==\"A\"):\n",
    "    if city==1:\n",
    "        gpA=60000+(0.3*60000)+(0.5*60000)+8000+900-200-(0.11*60000)\n",
    "        apA=gpA*12\n",
    "    elif city==2:\n",
    "        gpA=60000+(0.2*60000)+(0.5*60000)+8000+900-200-(0.11*60000)\n",
    "        apA=gpA*12\n",
    "    elif city==3:\n",
    "        gpA=60000+(0.1*60000)+(0.5*60000)+8000+900-200-(0.11*60000)\n",
    "        apA=gpA*12\n",
    "elif (gradelevel==\"B\"):\n",
    "    if city==1:\n",
    "        gpA=50000+(0.3*50000)+(0.5*50000)+7000+900-200-(0.11*50000)\n",
    "        apA=gpA*12\n",
    "    elif city==2:\n",
    "        gpA=50000+(0.2*50000)+(0.5*50000)+7000+900-200-(0.11*50000)\n",
    "        apA=gpA*12\n",
    "    elif city==3:\n",
    "        gpA=50000+(0.1*50000)+(0.5*50000)+7000+900-200-(0.11*50000)\n",
    "        apA=gpA*12\n",
    "elif (gradelevel==\"C\"):\n",
    "    if city==1:\n",
    "        gpA=40000+(0.3*40000)+(0.5*40000)+6000+900-200-(0.11*40000)\n",
    "        apA=gpA*12\n",
    "    elif city==2:\n",
    "        gpA=40000+(0.2*40000)+(0.5*40000)+6000+900-200-(0.11*40000)\n",
    "        apA=gpA*12\n",
    "    elif city==3:\n",
    "        gpA=40000+(0.1*40000)+(0.5*40000)+6000+900-200-(0.11*40000)\n",
    "        apA=gpA*12\n",
    "elif (gradelevel==\"D\"):\n",
    "    if city==1:\n",
    "        gpA=30000+(0.3*30000)+(0.5*30000)+5000+900-200-(0.11*30000)\n",
    "        apA=gpA*12\n",
    "    elif city==2:\n",
    "        gpA=30000+(0.2*30000)+(0.5*30000)+5000+900-200-(0.11*30000)\n",
    "        apA=gpA*12\n",
    "    elif city==3:\n",
    "        gpA=30000+(0.1*30000)+(0.5*30000)+5000+900-200-(0.11*30000)\n",
    "        apA=gpA*12\n",
    "elif (gradelevel==\"E\"):\n",
    "    if city==1:\n",
    "        gpA=20000+(0.3*20000)+(0.5*20000)+4000+900-200-(0.11*20000)\n",
    "        apA=gpA*12\n",
    "    elif city==2:\n",
    "        gpA=20000+(0.2*20000)+(0.5*20000)+4000+900-200-(0.11*20000)\n",
    "        apA=gpA*12\n",
    "    elif city==3:\n",
    "        gpA=20000+(0.1*20000)+(0.5*20000)+4000+900-200-(0.11*20000)\n",
    "        apA=gpA*12\n",
    "elif (gradelevel==\"F\"):\n",
    "    if city==1:\n",
    "        gpA=10000+(0.3*10000)+(0.5*10000)+3000+900-200-(0.11*10000)\n",
    "        apA=gpA*12\n",
    "    elif city==2:\n",
    "        gpA=10000+(0.2*10000)+(0.5*10000)+3000+900-200-(0.11*10000)\n",
    "        apA=gpA*12\n",
    "    elif city==3:\n",
    "        gpA=10000+(0.1*10000)+(0.5*10000)+3000+900-200-(0.11*10000)\n",
    "        apA=gpA*12\n",
    "tax=0\n",
    "\n",
    "if apA<=250000:\n",
    "    print(\"Tax is rs.\",tax)\n",
    "elif apA>=250001 and apA<=500000:\n",
    "    tax=(apA-250000)*0.05\n",
    "    \n",
    "elif apA>=500001 and apA<=750000:\n",
    "    tax=((apA-500000)*0.1)+12500\n",
    "    \n",
    "elif apA>=750001 and apA<=1000000:\n",
    "    tax=((apA-750000)*0.15)+37500\n",
    "    \n",
    "elif apA>=1000001 and apA<=1250000:\n",
    "    tax=((apA-1000000)*0.20)+75000\n",
    "    \n",
    "elif apA>=1250001 and apA<=1500000:\n",
    "    tax=((apA-1250000)*0.25)+125000\n",
    "    \n",
    "elif apA>=1500000:\n",
    "    tax=((apA-1500000)*0.30)+187500\n",
    "print(\"gross pay \",gpA)\n",
    "print(\"Annual Pay : \",apA)\n",
    "print(\"Tax : \",tax)"
   ]
  },
  {
   "cell_type": "code",
   "execution_count": 131,
   "metadata": {},
   "outputs": [
    {
     "name": "stdout",
     "output_type": "stream",
     "text": [
      "1 is both Disarium and Harshad.\n",
      "2 is both Disarium and Harshad.\n",
      "3 is both Disarium and Harshad.\n",
      "4 is both Disarium and Harshad.\n",
      "5 is both Disarium and Harshad.\n",
      "6 is both Disarium and Harshad.\n",
      "7 is both Disarium and Harshad.\n",
      "8 is both Disarium and Harshad.\n",
      "9 is both Disarium and Harshad.\n"
     ]
    }
   ],
   "source": [
    "# PB-181\n",
    "for number in range(1, 101):\n",
    "    # Counting the number of digits\n",
    "    digit_count = 0\n",
    "    temp = number\n",
    "    while temp:\n",
    "        temp //= 10\n",
    "        digit_count += 1\n",
    "\n",
    "    # Calculating the sum for Disarium check\n",
    "    temp_copy = number\n",
    "    sum_dis = 0\n",
    "    while temp_copy > 0:\n",
    "        digit = temp_copy % 10\n",
    "        sum_dis += digit ** digit_count\n",
    "        temp_copy //= 10\n",
    "        digit_count -= 1\n",
    "\n",
    "    # Calculating the sum of digits for Harshad check\n",
    "    digit_sum = 0\n",
    "    temp = number\n",
    "    while temp > 0:\n",
    "        r=temp%10\n",
    "        digit_sum += r\n",
    "        temp //= 10\n",
    "\n",
    "    # Checking both Disarium and Harshad conditions\n",
    "    if sum_dis == number and number % digit_sum == 0:\n",
    "        print(f\"{number} is both Disarium and Harshad.\")"
   ]
  },
  {
   "cell_type": "code",
   "execution_count": 133,
   "metadata": {},
   "outputs": [
    {
     "name": "stdout",
     "output_type": "stream",
     "text": [
      "overall_average :  5.5\n",
      "heighest_marks :  10\n",
      "lowest_marks :  1\n",
      "second_heighest :  9\n",
      "2\n",
      "overall_average after deducting 2 lowest :  6.5\n"
     ]
    }
   ],
   "source": [
    "# PB-182\n",
    "i=1\n",
    "sum=0\n",
    "heighest_marks=None\n",
    "lowest_marks=None\n",
    "second_heighest=0\n",
    "lowest_marks1=None\n",
    "lowest_marks2=None\n",
    "overall_average=0\n",
    "overall_average_deducting=0\n",
    "while i!=11 :\n",
    "    marks=int(input(f\"enter marks of subject {i} : \"))\n",
    "    if marks>100 or marks<0 :\n",
    "        print(\"Invalid marks please reenter!!\")\n",
    "        continue\n",
    "    else :\n",
    "        if (heighest_marks==None or marks>heighest_marks) :\n",
    "            second_heighest=heighest_marks\n",
    "            heighest_marks=marks\n",
    "        elif second_heighest==None or marks>second_heighest :\n",
    "            second_heighest=marks\n",
    "        if (lowest_marks==None or marks<lowest_marks) :\n",
    "            lowest_marks=marks\n",
    "        if (lowest_marks1==None or marks<lowest_marks1) :\n",
    "            lowest_marks2=lowest_marks1\n",
    "            lowest_marks1=marks\n",
    "        elif (lowest_marks2==None or marks<lowest_marks2) :\n",
    "            lowest_marks2=marks\n",
    "        i+=1\n",
    "        sum+=marks\n",
    "overall_average=sum/10\n",
    "\n",
    "print(\"overall_average : \",overall_average)\n",
    "print(\"heighest_marks : \",heighest_marks)\n",
    "print(\"lowest_marks : \",lowest_marks)\n",
    "print(\"second_heighest : \",second_heighest)\n",
    "print(\"lowest_marks2 : \",lowest_marks2)\n",
    "sum=sum-(lowest_marks1+lowest_marks2)\n",
    "overall_average_deducting=sum/8\n",
    "print(\"overall_average after deducting 2 lowest : \",overall_average_deducting)"
   ]
  },
  {
   "cell_type": "code",
   "execution_count": 135,
   "metadata": {},
   "outputs": [
    {
     "name": "stdout",
     "output_type": "stream",
     "text": [
      "987\n"
     ]
    }
   ],
   "source": [
    "# PB-183\n",
    "num=int(input(\"enter your encrypt msg : \"))\n",
    "if num>0 :\n",
    "    temp=num\n",
    "    encoded_num=0\n",
    "    position=1\n",
    "    while temp>0 :\n",
    "        digit=temp%10\n",
    "        if digit==9 :\n",
    "            encoded_digit=0\n",
    "        else :\n",
    "            encoded_digit=digit+1\n",
    "        encoded_num+=encoded_digit*position\n",
    "        temp//=10\n",
    "        position*=10\n",
    "    print(encoded_num)\n",
    "else :\n",
    "    print(\"enter positive number\")"
   ]
  },
  {
   "cell_type": "code",
   "execution_count": null,
   "metadata": {},
   "outputs": [],
   "source": [
    "# PB-184 : \n",
    "# Input the number from the user\n",
    "num = int(input(\"Enter a number: \"))\n",
    "\n",
    "# Find the last digit\n",
    "last_digit = num % 10\n",
    "\n",
    "# Find the number of digits in the input\n",
    "temp = num\n",
    "digits = 0\n",
    "while temp > 0:\n",
    "    temp //= 10\n",
    "    digits += 1\n",
    "\n",
    "# Find the first digit\n",
    "first_digit = num // (10 ** (digits - 1))\n",
    "\n",
    "# Remove the first digit from the original number\n",
    "middle_part = num % (10 ** (digits - 1))\n",
    "\n",
    "# Remove the last digit from the middle part\n",
    "middle_part = middle_part // 10\n",
    "\n",
    "# Create the new swapped number\n",
    "swapped_num = last_digit * (10 ** (digits - 1)) + middle_part * 10 + first_digit\n",
    "\n",
    "# Print the result\n",
    "print(\"Swapped number:\", swapped_num)\n"
   ]
  },
  {
   "cell_type": "code",
   "execution_count": 1,
   "metadata": {},
   "outputs": [
    {
     "name": "stdout",
     "output_type": "stream",
     "text": [
      "*               * \n",
      "* *           * * \n",
      "* * *       * * * \n",
      "* * * *   * * * * \n",
      "* * * * * * * * * \n",
      "* * * *   * * * * \n",
      "* * *       * * * \n",
      "* *           * * \n",
      "*               * \n",
      "                  \n"
     ]
    }
   ],
   "source": [
    "# PB-185 : \n",
    "n=int(input(\"enter a number : \"))\n",
    "for i in range(1,n) :\n",
    "    for j in range(0,i) :\n",
    "        print('*',end=\" \")\n",
    "    for j in range(n,i,-1) :\n",
    "        print(' ',end=\" \")\n",
    "    for j in range(n,i+1,-1) :\n",
    "        print(' ',end=\" \")\n",
    "    for j in range(0,i) :\n",
    "        print('*',end=\" \")\n",
    "    print()\n",
    "print((n*2-1)*\"* \")\n",
    "for i in range(1,n+1) :\n",
    "    for j in range(n,i,-1) :\n",
    "        print('*',end=\" \")\n",
    "    for j in range(1,i+1) :\n",
    "        print(' ',end=\" \")\n",
    "    for j in range(1,i) :\n",
    "        print(' ',end=\" \")\n",
    "    for j in range(n,i,-1) :\n",
    "        print('*',end=\" \")\n",
    "    print()"
   ]
  },
  {
   "cell_type": "code",
   "execution_count": 138,
   "metadata": {},
   "outputs": [
    {
     "name": "stdout",
     "output_type": "stream",
     "text": [
      "Easter in 2022 falls on: 2022-04-17\n"
     ]
    }
   ],
   "source": [
    "# PB-186 : \n",
    "year = int(input(\"Enter a year between 1900 and 2099: \"))\n",
    "\n",
    "# Step 1 to 5 of the algorithm\n",
    "a = year % 19\n",
    "b = year % 4\n",
    "c = year % 7\n",
    "d = (19 * a + 24) % 30\n",
    "e = (2 * b + 4 * c + 6 * d + 5) % 7\n",
    "\n",
    "# Step 6: Calculate the date of Easter\n",
    "date_of_easter = 22 + d + e\n",
    "\n",
    "# Check if the date is in April\n",
    "if date_of_easter > 31:\n",
    "    date_of_easter -= 31  # Move to April\n",
    "    month = 4  # April\n",
    "else:\n",
    "    month = 3  # March\n",
    "\n",
    "# Handle special years where 7 needs to be subtracted from the date\n",
    "if year==1954 or year==1981 or year==2049 or year==2076 :\n",
    "    date_of_easter -= 7\n",
    "\n",
    "# Print the final date of Easter\n",
    "print(f\"Easter in {year} falls on: {year}-{month:02d}-{date_of_easter:02d}\")\n"
   ]
  },
  {
   "cell_type": "code",
   "execution_count": 139,
   "metadata": {},
   "outputs": [
    {
     "name": "stdout",
     "output_type": "stream",
     "text": [
      "The GCD is: 5\n"
     ]
    }
   ],
   "source": [
    "# PB-187\n",
    "num1 = int(input(\"Enter the first number: \"))\n",
    "num2 = int(input(\"Enter the second number: \"))\n",
    "\n",
    "if num1 > 0 and num2 > 0:\n",
    "    # Apply Euclidean Algorithm using a loop\n",
    "    while num2 != 0:\n",
    "        temp = num2\n",
    "        num2 = num1 % num2\n",
    "        num1 = temp\n",
    "\n",
    "    # num1 contains the GCD after the loop ends\n",
    "    print(f\"The GCD is: {num1}\")\n",
    "else:\n",
    "    print(\"Please enter positive integers only.\")\n"
   ]
  },
  {
   "cell_type": "code",
   "execution_count": 137,
   "metadata": {},
   "outputs": [
    {
     "name": "stdout",
     "output_type": "stream",
     "text": [
      "Sum = 45\n",
      "Average = 5.0\n",
      "Minimum number = 1\n",
      "Maximum number = 9\n"
     ]
    }
   ],
   "source": [
    "# PB-188 : \n",
    "sum_of_numbers = 0\n",
    "count = 0\n",
    "min_number = 0\n",
    "max_number = 0\n",
    "\n",
    "while True:\n",
    "    num = int(input(\"Enter a number (or type 0 to stop): \"))\n",
    "    \n",
    "    if num == 0:\n",
    "        break\n",
    "    \n",
    "    # Update the sum and count\n",
    "    sum_of_numbers += num\n",
    "    count += 1\n",
    "    \n",
    "    # On the first input, initialize min_number and max_number\n",
    "    if count == 1:\n",
    "        min_number = num\n",
    "        max_number = num\n",
    "    else:\n",
    "        # Update min_number and max_number based on input\n",
    "        if num < min_number:\n",
    "            min_number = num\n",
    "        if num > max_number:\n",
    "            max_number = num\n",
    "\n",
    "# Calculate and display the results if at least one number was entered\n",
    "if count > 0:\n",
    "    average = sum_of_numbers / count\n",
    "    print(\"Sum =\", sum_of_numbers)\n",
    "    print(\"Average =\", average)\n",
    "    print(\"Minimum number =\", min_number)\n",
    "    print(\"Maximum number =\", max_number)\n",
    "else:\n",
    "    print(\"No numbers were entered.\")\n"
   ]
  },
  {
   "cell_type": "code",
   "execution_count": 140,
   "metadata": {},
   "outputs": [
    {
     "name": "stdout",
     "output_type": "stream",
     "text": [
      "111113\n",
      "111131\n",
      "111311\n",
      "113111\n",
      "131111\n",
      "311111\n"
     ]
    }
   ],
   "source": [
    "# PB-190 : \n",
    "num = int(input(\"Enter a single digit number: \"))\n",
    "\n",
    "# Loop over all possible 6-digit numbers (from 111111 to 999999)\n",
    "for i in range(111111, 1000000):\n",
    "    # Convert the number to a string and extract each digit\n",
    "    str_num = str(i)\n",
    "    \n",
    "    # Calculate the product of the digits\n",
    "    product = 1\n",
    "    for digit in str_num:\n",
    "        product *= int(digit)\n",
    "    \n",
    "    # If the product equals the entered number, print the 6-digit number\n",
    "    if product == num:\n",
    "        print(i)\n"
   ]
  },
  {
   "cell_type": "code",
   "execution_count": 141,
   "metadata": {},
   "outputs": [
    {
     "name": "stdout",
     "output_type": "stream",
     "text": [
      "even max :  10\n",
      "even min :  2\n",
      "average of even number :  6\n",
      "odd max :  9\n",
      "odd min :  1\n",
      "average of odd number :  5\n"
     ]
    }
   ],
   "source": [
    "# PB-191 : \n",
    "even_sum=None\n",
    "even_max=None\n",
    "even_min=None\n",
    "even_count=0\n",
    "odd_sum=None\n",
    "odd_max=None\n",
    "odd_min=None\n",
    "odd_count=0\n",
    "while True :\n",
    "    num=eval(input(\"enter number (enter stop or -1 for exit) : \"))\n",
    "    if num=='stop' or num<=0 :\n",
    "        break\n",
    "    else :\n",
    "        if num%2==0 :\n",
    "            even_sum=num if even_sum==None else even_sum+num\n",
    "            even_min=num if (even_min==None or num<even_min) else even_min\n",
    "            even_max=num if (even_max==None or num>even_max) else even_max\n",
    "            even_count+=1\n",
    "        else :\n",
    "            odd_sum=num if odd_sum==None else odd_sum+num\n",
    "            odd_min=num if (odd_min==None or num<odd_min) else odd_min\n",
    "            odd_max=num if (odd_max==None or num>odd_max) else odd_max\n",
    "            odd_count+=1\n",
    "            \n",
    "if even_count>0 :\n",
    "    print(\"even max : \",even_max)\n",
    "    print(\"even min : \",even_min)\n",
    "    print(\"average of even number : \",even_sum//even_count)\n",
    "else :\n",
    "    print(\"even value does not exist\")\n",
    "    \n",
    "if odd_count>0 :\n",
    "    print(\"odd max : \",odd_max)\n",
    "    print(\"odd min : \",odd_min)\n",
    "    print(\"average of odd number : \",odd_sum//odd_count)\n",
    "else :\n",
    "    print(\"odd value does not exist\")"
   ]
  },
  {
   "cell_type": "markdown",
   "metadata": {},
   "source": [
    "# PB- 222 : Create a pair of functions to convert Fahrenheit to Celsius temperature values and vice versa. Where C = (F - 32) * (5 / 9) "
   ]
  },
  {
   "cell_type": "code",
   "execution_count": 4,
   "metadata": {},
   "outputs": [
    {
     "name": "stdout",
     "output_type": "stream",
     "text": [
      "37.77777777777778\n"
     ]
    }
   ],
   "source": [
    "def converter(F) : \n",
    "    C = (F - 32) * (5 / 9) \n",
    "    return C\n",
    "fahrenheit=float(input(\"enter temptreture in farenhit : \"))\n",
    "print(converter(fahrenheit))"
   ]
  },
  {
   "cell_type": "markdown",
   "metadata": {},
   "source": [
    "# PB-223 :  Write a Python function to calculate the factorial of a given number."
   ]
  },
  {
   "cell_type": "code",
   "execution_count": 11,
   "metadata": {},
   "outputs": [
    {
     "name": "stdout",
     "output_type": "stream",
     "text": [
      "120\n"
     ]
    }
   ],
   "source": [
    "def factorial(num) : \n",
    "    sum=1\n",
    "    for i in range(1,num+1) : \n",
    "        sum=sum*i\n",
    "    return sum\n",
    "num=int(input(\"enter number to find factorial : \"))\n",
    "print(factorial(num))"
   ]
  },
  {
   "cell_type": "markdown",
   "metadata": {},
   "source": [
    "# PB-224 :  Write a Python function to check whether a number is in a given range."
   ]
  },
  {
   "cell_type": "code",
   "execution_count": 17,
   "metadata": {},
   "outputs": [
    {
     "name": "stdout",
     "output_type": "stream",
     "text": [
      "False\n"
     ]
    }
   ],
   "source": [
    "def checker(num,low,max) : \n",
    "    if num<low or num>max : \n",
    "        return False\n",
    "    else : \n",
    "        return True\n",
    "num=int(input(\"enter number for checking : \"))\n",
    "low=int(input(\"enter lower limit : \"))\n",
    "max=int(input(\"enter upper limit : \"))\n",
    "print(checker(num,low,max))"
   ]
  },
  {
   "cell_type": "markdown",
   "metadata": {},
   "source": [
    "# PB-226 :  Write a Python function to find the Max of TWO numbers."
   ]
  },
  {
   "cell_type": "code",
   "execution_count": 18,
   "metadata": {},
   "outputs": [
    {
     "name": "stdout",
     "output_type": "stream",
     "text": [
      "The maximum of the two numbers is: 3.0\n"
     ]
    }
   ],
   "source": [
    "def find_max(a, b):\n",
    "    if a > b:\n",
    "        return a\n",
    "    else:\n",
    "        return b\n",
    "\n",
    "# Example usage\n",
    "num1 = float(input(\"Enter the first number: \"))\n",
    "num2 = float(input(\"Enter the second number: \"))\n",
    "print(\"The maximum of the two numbers is:\", find_max(num1, num2))"
   ]
  },
  {
   "cell_type": "markdown",
   "metadata": {},
   "source": [
    "# PB-227 : Write a Python program to accept two numbers and check it for odd or even number"
   ]
  },
  {
   "cell_type": "code",
   "execution_count": 19,
   "metadata": {},
   "outputs": [
    {
     "name": "stdout",
     "output_type": "stream",
     "text": [
      "The first number 3 is odd.\n",
      "The second number 4 is even.\n"
     ]
    }
   ],
   "source": [
    "def check_odd_even(num):\n",
    "    if num % 2 == 0:\n",
    "        return \"even\"\n",
    "    else:\n",
    "        return \"odd\"\n",
    "\n",
    "# Accepting two numbers from the user\n",
    "num1 = int(input(\"Enter the first number: \"))\n",
    "num2 = int(input(\"Enter the second number: \"))\n",
    "\n",
    "# Checking if the numbers are odd or even\n",
    "result1 = check_odd_even(num1)\n",
    "result2 = check_odd_even(num2)\n",
    "\n",
    "# Displaying the results\n",
    "print(f\"The first number {num1} is {result1}.\")\n",
    "print(f\"The second number {num2} is {result2}.\")"
   ]
  },
  {
   "cell_type": "markdown",
   "metadata": {},
   "source": [
    "# PB-228 : Write a Python program to check whether the given no is Armstrong or not using user defined function. "
   ]
  },
  {
   "cell_type": "code",
   "execution_count": 21,
   "metadata": {},
   "outputs": [
    {
     "name": "stdout",
     "output_type": "stream",
     "text": [
      "153 is an Armstrong number.\n"
     ]
    }
   ],
   "source": [
    "def is_armstrong(number):\n",
    "    sum = 0\n",
    "    temp = number\n",
    "    a=len(str(number))\n",
    "    while temp > 0:\n",
    "        r = temp % 10\n",
    "        sum = sum + (r ** a)\n",
    "        temp //= 10\n",
    "    return sum == number\n",
    "\n",
    "num = int(input(\"Enter a number: \"))\n",
    "\n",
    "if is_armstrong(num):\n",
    "    print(f\"{num} is an Armstrong number.\")\n",
    "else:\n",
    "    print(f\"{num} is not an Armstrong number.\")\n"
   ]
  },
  {
   "cell_type": "markdown",
   "metadata": {},
   "source": [
    "# PB-229 : Write a python program to demonstarte a function to print the number 1 to 5."
   ]
  },
  {
   "cell_type": "code",
   "execution_count": 22,
   "metadata": {},
   "outputs": [
    {
     "name": "stdout",
     "output_type": "stream",
     "text": [
      "1\n",
      "2\n",
      "3\n",
      "4\n",
      "5\n"
     ]
    }
   ],
   "source": [
    "def print_numbers():\n",
    "    for i in range(1, 6):\n",
    "        print(i)\n",
    "\n",
    "# Calling the function\n",
    "print_numbers()"
   ]
  },
  {
   "cell_type": "markdown",
   "metadata": {},
   "source": [
    "# PB-230 : Write a Python Program to demonstarte a Simple Calculator using python functions"
   ]
  },
  {
   "cell_type": "code",
   "execution_count": 23,
   "metadata": {},
   "outputs": [
    {
     "name": "stdout",
     "output_type": "stream",
     "text": [
      "Select operation:\n",
      "1. Add\n",
      "2. Subtract\n",
      "3. Multiply\n",
      "4. Divide\n",
      "The result is: 0.5\n"
     ]
    }
   ],
   "source": [
    "# Function for addition\n",
    "def add(x, y):\n",
    "    return x + y\n",
    "\n",
    "# Function for subtraction\n",
    "def subtract(x, y):\n",
    "    return x - y\n",
    "\n",
    "# Function for multiplication\n",
    "def multiply(x, y):\n",
    "    return x * y\n",
    "\n",
    "# Function for division\n",
    "def divide(x, y):\n",
    "    if y == 0:\n",
    "        return \"Cannot divide by zero!\"\n",
    "    else:\n",
    "        return x / y\n",
    "\n",
    "# Main program\n",
    "def calculator():\n",
    "    print(\"Select operation:\")\n",
    "    print(\"1. Add\")\n",
    "    print(\"2. Subtract\")\n",
    "    print(\"3. Multiply\")\n",
    "    print(\"4. Divide\")\n",
    "    \n",
    "    # Take user input\n",
    "    choice = input(\"Enter choice (1/2/3/4): \")\n",
    "    \n",
    "    num1 = float(input(\"Enter first number: \"))\n",
    "    num2 = float(input(\"Enter second number: \"))\n",
    "    \n",
    "    # Perform operation based on user's choice\n",
    "    if choice == '1':\n",
    "        print(f\"The result is: {add(num1, num2)}\")\n",
    "    elif choice == '2':\n",
    "        print(f\"The result is: {subtract(num1, num2)}\")\n",
    "    elif choice == '3':\n",
    "        print(f\"The result is: {multiply(num1, num2)}\")\n",
    "    elif choice == '4':\n",
    "        print(f\"The result is: {divide(num1, num2)}\")\n",
    "    else:\n",
    "        print(\"Invalid input\")\n",
    "\n",
    "# Calling the calculator function\n",
    "calculator()"
   ]
  },
  {
   "cell_type": "markdown",
   "metadata": {},
   "source": [
    "# PB-231 : Write a Python program to demonstrate the function of finding sum and average of first n natural numbers."
   ]
  },
  {
   "cell_type": "code",
   "execution_count": 28,
   "metadata": {},
   "outputs": [
    {
     "name": "stdout",
     "output_type": "stream",
     "text": [
      "the sum of first 4 number is : 10\n",
      "the average of first 4 number is : 2\n"
     ]
    }
   ],
   "source": [
    "def addition(num) : \n",
    "    sum=0\n",
    "    for i in range(1,num+1) : \n",
    "        sum=sum+i\n",
    "    return sum\n",
    "num=int(input(\"enter number to find total and average : \"))\n",
    "total=addition(num)\n",
    "average=total//num\n",
    "print(f\"the sum of first {num} number is : {total}\")\n",
    "print(f\"the average of first {num} number is : {average}\")"
   ]
  },
  {
   "cell_type": "markdown",
   "metadata": {},
   "source": [
    "# PB-232 : Write a Python program to demonstrate the function of finding multiplication of first n natural numbers."
   ]
  },
  {
   "cell_type": "code",
   "execution_count": 26,
   "metadata": {},
   "outputs": [
    {
     "name": "stdout",
     "output_type": "stream",
     "text": [
      "304888344611713860501504000000\n"
     ]
    }
   ],
   "source": [
    "def multiplication(num) : \n",
    "    sum=1\n",
    "    for i in range(1,num+1) : \n",
    "        sum=sum*i\n",
    "    return sum\n",
    "num=int(input(\"enter number to find multiplication : \"))\n",
    "print(multiplication(num))"
   ]
  },
  {
   "cell_type": "markdown",
   "metadata": {},
   "source": [
    "# PB-233 : Write a Python program to find reverse of given number using user defined function. "
   ]
  },
  {
   "cell_type": "code",
   "execution_count": 32,
   "metadata": {},
   "outputs": [
    {
     "name": "stdout",
     "output_type": "stream",
     "text": [
      "8905\n"
     ]
    }
   ],
   "source": [
    "def rev_number(num) : \n",
    "    sum=0\n",
    "    while num>0 : \n",
    "        r=num%10\n",
    "        sum=sum*10+r\n",
    "        num=num//10\n",
    "    return sum\n",
    "num=int(input(\"enter a number to get the reverse number : \"))\n",
    "print(rev_number(num))"
   ]
  },
  {
   "cell_type": "markdown",
   "metadata": {},
   "source": [
    "# PB-234 :  Write your own python program for computing square roots that implements Newton’s Method.  Use of inbuilt function, \n",
    "# math library or x**0.5 is not allowed.\n",
    "# Newton Method is a category of guess-and-check approach. You first guess what the square root might be and then see \n",
    "# how close your guess is. You can use this information to make another guess and continue guessing until you have found \n",
    "# the square root (or a close approximation to it). Suppose x is the number we want the root of and guess is the current \n",
    "# guessed answer. The guess can be improved by using (guess+ x/guess)/2 as the next guess.\n",
    "# The program should - \n",
    "# 1.Prompt the user for the value to find the square root of (x) and the number of times to improve the guess. \n",
    "# 2.\tStarting with a guess value of x/2, your program should loop the specified number of times applying Newton’s method \n",
    "# and report the final value of guess. "
   ]
  },
  {
   "cell_type": "code",
   "execution_count": null,
   "metadata": {},
   "outputs": [],
   "source": [
    "def newton_sqrt(x, iterations):\n",
    "    # Initial guess is x / 2\n",
    "    guess = x / 2.0\n",
    "    \n",
    "    # Apply Newton's method for the specified number of iterations\n",
    "    for _ in range(iterations):\n",
    "        guess = (guess + x / guess) / 2\n",
    "    \n",
    "    return guess\n",
    "\n",
    "# Main program\n",
    "def main():\n",
    "    # Prompt the user for the value to find the square root of and the number of iterations\n",
    "    x = float(input(\"Enter the number to find the square root of: \"))\n",
    "    iterations = int(input(\"Enter the number of iterations to improve the guess: \"))\n",
    "    \n",
    "    # Check if the input is non-negative\n",
    "    if x < 0:\n",
    "        print(\"Square root of a negative number is not real.\")\n",
    "    else:\n",
    "        # Compute the square root using Newton's method\n",
    "        result = newton_sqrt(x, iterations)\n",
    "        print(f\"Approximate square root of {x} after {iterations} iterations is: {result}\")\n",
    "\n",
    "# Call the main function\n",
    "main()"
   ]
  }
 ],
 "metadata": {
  "kernelspec": {
   "display_name": "Python 3",
   "language": "python",
   "name": "python3"
  },
  "language_info": {
   "codemirror_mode": {
    "name": "ipython",
    "version": 3
   },
   "file_extension": ".py",
   "mimetype": "text/x-python",
   "name": "python",
   "nbconvert_exporter": "python",
   "pygments_lexer": "ipython3",
   "version": "3.13.0"
  }
 },
 "nbformat": 4,
 "nbformat_minor": 2
}
