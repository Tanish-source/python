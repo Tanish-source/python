{
 "cells": [
  {
   "cell_type": "markdown",
   "metadata": {},
   "source": [
    "#  PB-54 : Write a Python program to add 2 Numbers with user input."
   ]
  },
  {
   "cell_type": "code",
   "execution_count": null,
   "metadata": {},
   "outputs": [],
   "source": [
    "# Get input from the user\n",
    "num1 = float(input(\"Enter the first number: \"))\n",
    "num2 = float(input(\"Enter the second number: \"))\n",
    "\n",
    "# Add the two numbers\n",
    "sum = num1 + num2\n",
    "\n",
    "# Print the result\n",
    "print(\"The sum of\", num1, \"and\", num2, \"is:\", sum)\n"
   ]
  },
  {
   "cell_type": "markdown",
   "metadata": {},
   "source": [
    "# PB-55 : Write a Python program to find the area of Circle"
   ]
  },
  {
   "cell_type": "code",
   "execution_count": null,
   "metadata": {},
   "outputs": [],
   "source": [
    "import math\n",
    "\n",
    "# Get the radius from the user\n",
    "radius = float(input(\"Enter the radius of the circle: \"))\n",
    "\n",
    "# Calculate the area using the formula: Area = π * r^2\n",
    "area = math.pi * radius ** 2\n",
    "\n",
    "# Print the result\n",
    "print(f\"The area of the circle with radius {radius} is: {area}\")\n"
   ]
  },
  {
   "cell_type": "markdown",
   "metadata": {},
   "source": [
    "# PB-56 : Write a Python program to find the area of Triangle.\n"
   ]
  },
  {
   "cell_type": "code",
   "execution_count": null,
   "metadata": {},
   "outputs": [],
   "source": [
    "# Get the base and height from the user\n",
    "base = float(input(\"Enter the base of the triangle: \"))\n",
    "height = float(input(\"Enter the height of the triangle: \"))\n",
    "\n",
    "# Calculate the area using the formula: Area = (base * height) / 2\n",
    "area = (base * height) / 2\n",
    "\n",
    "# Print the result\n",
    "print(f\"The area of the triangle with base {base} and height {height} is: {area}\")\n"
   ]
  },
  {
   "cell_type": "markdown",
   "metadata": {},
   "source": [
    "# PB-57 : Write a Python program to calculate the area of a trapezoid."
   ]
  },
  {
   "cell_type": "code",
   "execution_count": null,
   "metadata": {},
   "outputs": [],
   "source": [
    "# Get the lengths of the two bases and the height from the user\n",
    "base1 = float(input(\"Enter the length of the first base (b1): \"))\n",
    "base2 = float(input(\"Enter the length of the second base (b2): \"))\n",
    "height = float(input(\"Enter the height of the trapezoid: \"))\n",
    "\n",
    "# Calculate the area using the formula: Area = ((base1 + base2) / 2) * height\n",
    "area = ((base1 + base2) / 2) * height\n",
    "\n",
    "# Print the result\n",
    "print(f\"The area of the trapezoid with bases {base1} and {base2} and height {height} is: {area}\")\n"
   ]
  },
  {
   "cell_type": "markdown",
   "metadata": {},
   "source": [
    "# PB-58 : Write a Python program to calculate surface volume and area of a cylinder."
   ]
  },
  {
   "cell_type": "code",
   "execution_count": null,
   "metadata": {},
   "outputs": [],
   "source": [
    "import math\n",
    "\n",
    "# Get the radius and height from the user\n",
    "radius = float(input(\"Enter the radius of the cylinder: \"))\n",
    "height = float(input(\"Enter the height of the cylinder: \"))\n",
    "\n",
    "# Calculate the volume using the formula: Volume = π * r^2 * h\n",
    "volume = math.pi * radius ** 2 * height\n",
    "\n",
    "# Calculate the surface area using the formula: Surface Area = 2πrh + 2πr^2\n",
    "surface_area = 2 * math.pi * radius * height + 2 * math.pi * radius ** 2\n",
    "\n",
    "# Print the results\n",
    "print(f\"The volume of the cylinder with radius {radius} and height {height} is: {volume}\")\n",
    "print(f\"The surface area of the cylinder with radius {radius} and height {height} is: {surface_area}\")\n"
   ]
  },
  {
   "cell_type": "markdown",
   "metadata": {},
   "source": [
    "# PB-59 : Write a Python program to convert Fahrenheit to Celsius and vice versa."
   ]
  },
  {
   "cell_type": "code",
   "execution_count": null,
   "metadata": {},
   "outputs": [],
   "source": [
    "# User input for conversion choice\n",
    "choice = input(\"Type 'F' to convert Fahrenheit to Celsius or 'C' to convert Celsius to Fahrenheit: \")\n",
    "\n",
    "# Check the input directly without using strip() or upper()\n",
    "if choice == 'F' or choice == 'f':\n",
    "    # Get temperature in Fahrenheit from the user\n",
    "    fahrenheit = float(input(\"Enter temperature in Fahrenheit: \"))\n",
    "    \n",
    "    # Convert Fahrenheit to Celsius\n",
    "    celsius = (fahrenheit - 32) * 5 / 9\n",
    "    \n",
    "    # Print the result\n",
    "    print(f\"{fahrenheit} °F is equal to {celsius:.2f} °C\")\n",
    "\n",
    "elif choice == 'C' or choice == 'c':\n",
    "    # Get temperature in Celsius from the user\n",
    "    celsius = float(input(\"Enter temperature in Celsius: \"))\n",
    "    \n",
    "    # Convert Celsius to Fahrenheit\n",
    "    fahrenheit = (celsius * 9 / 5) + 32\n",
    "    \n",
    "    # Print the result\n",
    "    print(f\"{celsius} °C is equal to {fahrenheit:.2f} °F\")\n",
    "\n",
    "else:\n",
    "    print(\"Invalid choice! Please enter 'F' or 'C'.\")\n"
   ]
  },
  {
   "cell_type": "markdown",
   "metadata": {},
   "source": [
    "# PB-60 : Write a python code to demonstrate calculator functionality."
   ]
  },
  {
   "cell_type": "code",
   "execution_count": null,
   "metadata": {},
   "outputs": [],
   "source": [
    "# Welcome message\n",
    "print(\"Welcome to the Calculator!\")\n",
    "print(\"Select operation:\")\n",
    "print(\"1. Addition\")\n",
    "print(\"2. Subtraction\")\n",
    "print(\"3. Multiplication\")\n",
    "print(\"4. Division\")\n",
    "\n",
    "# Get user choice\n",
    "choice = input(\"Enter choice (1/2/3/4): \")\n",
    "\n",
    "# Check if the choice is one of the valid options\n",
    "if choice in ['1', '2', '3', '4']:\n",
    "    # Get user input for numbers\n",
    "    num1 = float(input(\"Enter first number: \"))\n",
    "    num2 = float(input(\"Enter second number: \"))\n",
    "\n",
    "    if choice == '1':\n",
    "        result = num1 + num2\n",
    "        print(f\"{num1} + {num2} = {result}\")\n",
    "\n",
    "    elif choice == '2':\n",
    "        result = num1 - num2\n",
    "        print(f\"{num1} - {num2} = {result}\")\n",
    "\n",
    "    elif choice == '3':\n",
    "        result = num1 * num2\n",
    "        print(f\"{num1} * {num2} = {result}\")\n",
    "\n",
    "    elif choice == '4':\n",
    "        # Check for division by zero\n",
    "        if num2 != 0:\n",
    "            result = num1 / num2\n",
    "            print(f\"{num1} / {num2} = {result}\")\n",
    "        else:\n",
    "            print(\"Error! Division by zero is not allowed.\")\n",
    "else:\n",
    "    print(\"Invalid choice! Please select a valid operation.\")\n"
   ]
  },
  {
   "cell_type": "markdown",
   "metadata": {},
   "source": [
    "# PB-61 : Write a python program to convert Days into Years, Months and Days. (Ex: if input of Days = 370 then output will be, years=1, months=0 and days = 5)."
   ]
  },
  {
   "cell_type": "code",
   "execution_count": null,
   "metadata": {},
   "outputs": [],
   "source": [
    "day=int(input(\"enter your days : \"))\n",
    "# year=int(day/365)\n",
    "# print(year)\n",
    "# month=int((day-(year*365))/30)\n",
    "# print(month)\n",
    "# days=int(day-((365*year)+(30*month)))\n",
    "# print(days)\n",
    "print(day//365,\"years\",(day%365)//30,\"month\",day%365%30,\"days\")"
   ]
  },
  {
   "cell_type": "markdown",
   "metadata": {},
   "source": [
    "# PB-62 : Write a Python program to convert hours into minutes and seconds (Ex : input of hours = 6 then output will be, minutes = 360 and seconds = 21600 )."
   ]
  },
  {
   "cell_type": "code",
   "execution_count": null,
   "metadata": {},
   "outputs": [],
   "source": [
    "# Get user input for hours\n",
    "hours = float(input(\"Enter the number of hours: \"))\n",
    "\n",
    "# Convert hours to minutes and seconds\n",
    "minutes = hours * 60\n",
    "seconds = hours * 3600\n",
    "\n",
    "# Print the results\n",
    "print(f\"Minutes = {int(minutes)}\")\n",
    "print(f\"Seconds = {int(seconds)}\")\n"
   ]
  },
  {
   "cell_type": "markdown",
   "metadata": {},
   "source": [
    "#   PB-63 : Write a Python program to find an integer exponent x such that a^x = n.\n",
    "# Input:\n",
    "# a = 2 : n = 1024\n",
    "# Output:\n",
    "# 10\n",
    "# Input:\n",
    "# a = 3 : n = 81\n",
    "# Output:\n",
    "# 4"
   ]
  },
  {
   "cell_type": "code",
   "execution_count": 11,
   "metadata": {},
   "outputs": [
    {
     "name": "stdout",
     "output_type": "stream",
     "text": [
      "5 power 2 : 25\n"
     ]
    }
   ],
   "source": [
    "num=int(input(\"enter num : \"))\n",
    "temp=num\n",
    "a=int(input(\"enter base : \"))\n",
    "count=0\n",
    "while num>0 :\n",
    "    num=num//a\n",
    "    count+=1\n",
    "print(f\"{a} power {count-1} : {temp}\")"
   ]
  }
 ],
 "metadata": {
  "kernelspec": {
   "display_name": "Python 3",
   "language": "python",
   "name": "python3"
  },
  "language_info": {
   "codemirror_mode": {
    "name": "ipython",
    "version": 3
   },
   "file_extension": ".py",
   "mimetype": "text/x-python",
   "name": "python",
   "nbconvert_exporter": "python",
   "pygments_lexer": "ipython3",
   "version": "3.13.0"
  }
 },
 "nbformat": 4,
 "nbformat_minor": 2
}
