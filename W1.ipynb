{
 "cells": [
  {
   "cell_type": "markdown",
   "metadata": {},
   "source": [
    "# HARD QUESTIONS"
   ]
  },
  {
   "cell_type": "markdown",
   "metadata": {},
   "source": [
    "# PB325"
   ]
  },
  {
   "cell_type": "code",
   "execution_count": 74,
   "metadata": {},
   "outputs": [
    {
     "name": "stdout",
     "output_type": "stream",
     "text": [
      "45123\n"
     ]
    }
   ],
   "source": [
    "def shift_decimal_digits(number, shift):\n",
    "\n",
    "    str_number = str(number)\n",
    "    num_digits = len(str_number)\n",
    "    if shift > num_digits:\n",
    "        result = str_number[::-1]\n",
    "    else:\n",
    "        result = str_number[shift:] + str_number[:shift]\n",
    "    return int(result)\n",
    "n = int(input(\"enter number : \"))\n",
    "shift = int(input(\"enter shift : \"))\n",
    "result = shift_decimal_digits(n, shift)\n",
    "print(result)"
   ]
  },
  {
   "cell_type": "markdown",
   "metadata": {},
   "source": [
    "# PB326"
   ]
  },
  {
   "cell_type": "code",
   "execution_count": 77,
   "metadata": {},
   "outputs": [
    {
     "name": "stdout",
     "output_type": "stream",
     "text": [
      "Uppercase count: 1\n",
      "Lowercase count: 1\n",
      "Digits count: 1\n"
     ]
    }
   ],
   "source": [
    "u=0\n",
    "l=0\n",
    "d=0\n",
    "s= input(\"enter a string:\")\n",
    "for char in s:\n",
    "    if char.isupper():\n",
    "        u=u+1\n",
    "    if char.islower():\n",
    "        l=l+1\n",
    "    if char.isdigit():\n",
    "        d+=1\n",
    "print(\"Uppercase count:\", u)\n",
    "print(\"Lowercase count:\", l)\n",
    "print(\"Digits count:\", d)"
   ]
  },
  {
   "cell_type": "markdown",
   "metadata": {},
   "source": [
    "# PB327"
   ]
  },
  {
   "cell_type": "code",
   "execution_count": null,
   "metadata": {},
   "outputs": [],
   "source": [
    "str=input(\"enter your password to validate : \")\n",
    "u=False\n",
    "l=False\n",
    "d=False\n",
    "special=False\n",
    "if len(str)>=8 :\n",
    "    for i in str : \n",
    "        if i.isupper() :\n",
    "            u=True\n",
    "        elif i.islower() : \n",
    "            l=True\n",
    "        elif i.isdigit() : \n",
    "            d=True\n",
    "        elif i=='_' or i=='#' or i=='*' :\n",
    "            special=True\n",
    "else : \n",
    "    print(\"length of password must be 8\")\n",
    "if u==True and l==True and d==True and special==True : \n",
    "    print(\"all cases verified\")\n",
    "else : \n",
    "    if u==False : \n",
    "        print(\"not uppercase\")\n",
    "    else : \n",
    "        print(\"uppercase\")\n",
    "    if l==False : \n",
    "        print(\"not lowercase\")\n",
    "    else : \n",
    "        print(\"lowercase\")\n",
    "    if d==True : \n",
    "        print(\"digits are available\")\n",
    "    else : \n",
    "        print(\"digits are not available\")\n",
    "    if special==False : \n",
    "        print(\"not special characters\")\n",
    "    else : \n",
    "        print(\"special characters available\")"
   ]
  },
  {
   "cell_type": "markdown",
   "metadata": {},
   "source": [
    "# PB328"
   ]
  },
  {
   "cell_type": "code",
   "execution_count": 78,
   "metadata": {},
   "outputs": [
    {
     "name": "stdout",
     "output_type": "stream",
     "text": [
      "Tanish\n",
      "tANISH\n"
     ]
    }
   ],
   "source": [
    "input_string =input(\"enter a String  : \")\n",
    "print(input_string)\n",
    "inverted_string = \"\"\n",
    "for char in input_string:\n",
    "    if char.isupper():\n",
    "        inverted_string += char.lower()\n",
    "    elif char.islower():\n",
    "        inverted_string += char.upper()\n",
    "    else:\n",
    "        inverted_string += char\n",
    "print(inverted_string)"
   ]
  },
  {
   "cell_type": "markdown",
   "metadata": {},
   "source": [
    "# PB330"
   ]
  },
  {
   "cell_type": "code",
   "execution_count": 21,
   "metadata": {},
   "outputs": [
    {
     "name": "stdout",
     "output_type": "stream",
     "text": [
      "omlhwhqj\n"
     ]
    }
   ],
   "source": [
    "str=input(\"enter a String : \")\n",
    "key=int(input(\"enter a key : \"))\n",
    "b=True\n",
    "abcd='abcdefghijklmnopqrstuvwxyz'\n",
    "main=\"\"\n",
    "for i in range(len(str)) : \n",
    "    for j in range(len(abcd)) : \n",
    "        if str[i]==abcd[j] : \n",
    "            b=False\n",
    "            if j+key>25 : \n",
    "                main+=abcd[(j+key)-26]\n",
    "            else : \n",
    "                main+=abcd[j+key]\n",
    "    if b :\n",
    "        main+=str[i]   \n",
    "print(main)"
   ]
  },
  {
   "cell_type": "markdown",
   "metadata": {},
   "source": [
    "# PB331"
   ]
  },
  {
   "cell_type": "code",
   "execution_count": null,
   "metadata": {},
   "outputs": [
    {
     "name": "stdout",
     "output_type": "stream",
     "text": [
      "Not Balanced\n"
     ]
    }
   ],
   "source": [
    "str1=input(\"enter String1 : \")\n",
    "str2=input(\"enter String2 : \")\n",
    "if len(str1)==len(str2) : \n",
    "    for i in str1 : \n",
    "        if i in str2 : \n",
    "            continue\n",
    "        else :\n",
    "            b=False\n",
    "    if b : \n",
    "        print(\"Balanced\")\n",
    "    else : \n",
    "        print(\"Not Balanced\")\n",
    "else : \n",
    "    print(\"Not Balanced\")\n"
   ]
  },
  {
   "cell_type": "markdown",
   "metadata": {},
   "source": [
    "# PB456"
   ]
  },
  {
   "cell_type": "code",
   "execution_count": 88,
   "metadata": {},
   "outputs": [
    {
     "name": "stdout",
     "output_type": "stream",
     "text": [
      "6 was found at index None.\n"
     ]
    }
   ],
   "source": [
    "def linear_search(L, T):\n",
    "    for i in range(len(L)):\n",
    "        if L[i] == T:\n",
    "            return i\n",
    "    return -1\n",
    "\n",
    "L=[]\n",
    "num=int(input(\"how many numbers would you like to enter : \"))\n",
    "for i in range(num) : \n",
    "    n=int(input(\"enter a number : \"))\n",
    "    L.append(n)\n",
    "T = int(input(\"enter number that you want to found : \"))\n",
    "index = linear_search(L, T)\n",
    "if index != -1:\n",
    "    print(f\"{T} was found at index {index}.\")\n",
    "else:\n",
    "    print(f\"{T} was not found in the list.\")\n"
   ]
  },
  {
   "cell_type": "markdown",
   "metadata": {},
   "source": [
    "# PB457"
   ]
  },
  {
   "cell_type": "code",
   "execution_count": 25,
   "metadata": {},
   "outputs": [
    {
     "name": "stdout",
     "output_type": "stream",
     "text": [
      "{4: [4, 4, 4, 4], 3: [3, 3, 3], 2: [2, 2], 1: [1]}\n"
     ]
    }
   ],
   "source": [
    "list=[]\n",
    "num=int(input(\"how many numbers would you like to enter : \"))\n",
    "for i in range(num) : \n",
    "    n=int(input(\"enter a number : \"))\n",
    "    list.append(n)\n",
    "d={}\n",
    "for i in list : \n",
    "    if i not in d.keys() : \n",
    "        d[i]=[]\n",
    "        d[i].append(i)\n",
    "    else : \n",
    "        d[i].append(i)\n",
    "sorted_list = sorted(d.items(), key=lambda x: len(x[1]), reverse=True)\n",
    "d=dict(sorted_list)\n",
    "print(d)"
   ]
  },
  {
   "cell_type": "markdown",
   "metadata": {},
   "source": [
    "# PB458"
   ]
  },
  {
   "cell_type": "code",
   "execution_count": 95,
   "metadata": {},
   "outputs": [
    {
     "name": "stdout",
     "output_type": "stream",
     "text": [
      "1 2 3 \n",
      "4 5 6 \n",
      "7 8 9 \n",
      "------\n",
      "7 4 1 \n",
      "8 5 2 \n",
      "9 6 3 \n"
     ]
    }
   ],
   "source": [
    "# n=int(input(\"enter no of rows or columns : \"))\n",
    "matrix=[[int(input()),int(input()),int(input())],[int(input()),int(input()),int(input())],[int(input()),int(input()),int(input())]]\n",
    "for i in range(len(matrix)) : \n",
    "    for j in range(len(matrix[i])) :\n",
    "        print(matrix[i][j],end=\" \")\n",
    "    print()\n",
    "print('------')\n",
    "for i in range(len(matrix)) : \n",
    "    for j in range(len(matrix[i])-1,-1,-1) :\n",
    "        print(matrix[j][i],end=\" \")\n",
    "    print()"
   ]
  },
  {
   "cell_type": "markdown",
   "metadata": {},
   "source": [
    "# PB459"
   ]
  },
  {
   "cell_type": "code",
   "execution_count": null,
   "metadata": {},
   "outputs": [
    {
     "name": "stdout",
     "output_type": "stream",
     "text": [
      "['lessonplan', 'lesson', 'length', 'aes']\n",
      "-1\n"
     ]
    }
   ],
   "source": [
    "l=[\"lessonplan\", \"lesson\",\"aes\", \"length\"]\n",
    "l.sort(reverse=\"True\")\n",
    "print(l)\n",
    "prefix=\"\"\n",
    "for i in range(0,len(l[-1])) : \n",
    "    if l[0][i]==l[-1][i] : \n",
    "        prefix+=l[0][i]\n",
    "        continue\n",
    "    else : \n",
    "        break\n",
    "if prefix:\n",
    "    print(\"The longest Common Prefix is: \",prefix)\n",
    "else:\n",
    "    print(-1)"
   ]
  },
  {
   "cell_type": "markdown",
   "metadata": {},
   "source": [
    "# PB460"
   ]
  },
  {
   "cell_type": "code",
   "execution_count": null,
   "metadata": {},
   "outputs": [
    {
     "name": "stdout",
     "output_type": "stream",
     "text": [
      "ishan\n",
      "ihnsa\n",
      "ishan\n",
      "{'i': ['ishan']}\n"
     ]
    }
   ],
   "source": [
    "msg=input(\"enter a String : \")\n",
    "print(msg)\n",
    "key=int(input(\"enter a key : \"))\n",
    "encrypt=\"\"\n",
    "for j in range(key) : \n",
    "    for i in range(j,len(msg),key) : \n",
    "        encrypt+=msg[i]\n",
    "print(encrypt)\n",
    "\n",
    "\n",
    "\n",
    "\n",
    "\n",
    "\n",
    "decrypt = [\"\"] * len(encrypt)\n",
    "# rows = (len(encrypt) + key - 1) // key\n",
    "# extra_chars = len(encrypt) % key\n",
    "\n",
    "index = 0\n",
    "for j in range(key):\n",
    "    for i in range(j, len(encrypt), key):\n",
    "        decrypt[i] = encrypt[index]\n",
    "        index += 1\n",
    "\n",
    "decrypted_msg = \"\".join(decrypt)\n",
    "print(decrypted_msg)\n",
    "\n",
    "\n",
    "\n",
    "\n",
    "\n",
    "s=decrypted_msg\n",
    "d={}\n",
    "list=s.split(' ')\n",
    "for i in list : \n",
    "    j=i[0].lower()\n",
    "    if j not in d.keys() : \n",
    "        d[j]=[]\n",
    "        d[j].append(i)\n",
    "    else : \n",
    "        d[j].append(i)\n",
    "print(d)"
   ]
  },
  {
   "cell_type": "markdown",
   "metadata": {},
   "source": [
    "# PB461"
   ]
  },
  {
   "cell_type": "code",
   "execution_count": 140,
   "metadata": {},
   "outputs": [
    {
     "name": "stdout",
     "output_type": "stream",
     "text": [
      "1 2 2\n",
      "1 2 2\n",
      "2 1 2\n",
      "2 2 1\n",
      "2 1 2\n",
      "2 2 1\n",
      "unique elements :  1\n",
      "product :  2\n",
      "sum :  3\n"
     ]
    }
   ],
   "source": [
    "L1=int(input(\"enter input1\"))\n",
    "L2=int(input(\"enter input1\"))\n",
    "L3=int(input(\"enter input1\"))\n",
    "L=[L1,L2,L3]\n",
    "unique=0\n",
    "sum=0\n",
    "product=1\n",
    "ct=0\n",
    "for i in L : \n",
    "    if L.count(i)==1 : \n",
    "        unique+=1\n",
    "        product*=i\n",
    "        sum+=i\n",
    "    else : \n",
    "        ct=i\n",
    "n=len(L)\n",
    "for i in range(n):\n",
    "    for j in range(n):\n",
    "        for k in range(n):\n",
    "            if (i!=j and j!=k and i!=k):\n",
    "                print(L[i], L[j], L[k])\n",
    "print(\"unique elements : \",unique)\n",
    "if ct!=0 : \n",
    "    print(\"product : \",product*ct)\n",
    "    print(\"sum : \",sum+ct)\n",
    "else : \n",
    "    print(\"product : \",product)\n",
    "    print(\"sum : \",sum)"
   ]
  },
  {
   "cell_type": "markdown",
   "metadata": {},
   "source": [
    "# PB463"
   ]
  },
  {
   "cell_type": "code",
   "execution_count": 2,
   "metadata": {},
   "outputs": [
    {
     "name": "stdout",
     "output_type": "stream",
     "text": [
      "Sum of the positive numbers: 10\n",
      "Sum of the negative numbers: -10\n"
     ]
    }
   ],
   "source": [
    "m=eval(input(\"enter list: \"))\n",
    "sum_posative=(sum(list(filter(lambda x:x>0,m))))\n",
    "sum_negative=(sum(list(filter(lambda x:x<0,m))))\n",
    "print(\"Sum of the positive numbers:\",sum_posative)\n",
    "print(\"Sum of the negative numbers:\",sum_negative)"
   ]
  },
  {
   "cell_type": "markdown",
   "metadata": {},
   "source": [
    "# PB464"
   ]
  },
  {
   "cell_type": "code",
   "execution_count": 183,
   "metadata": {},
   "outputs": [
    {
     "name": "stdout",
     "output_type": "stream",
     "text": [
      "length of password must be 8\n",
      "not uppercase\n",
      "not lowercase\n",
      "digit are not available\n",
      "not special characters\n"
     ]
    }
   ],
   "source": [
    "str=input(\"enter your password to validate : \")\n",
    "u=False\n",
    "l=False\n",
    "d=False\n",
    "length=True\n",
    "special=False\n",
    "if len(str)>=8 :\n",
    "    for i in str : \n",
    "        if i.isupper() :\n",
    "            u=True\n",
    "        elif i.islower() : \n",
    "            l=True\n",
    "        elif i.isdigit() : \n",
    "            d=True\n",
    "        elif i=='_' or i=='#' or i=='*' :\n",
    "            special=True\n",
    "else : \n",
    "    print(\"length of password must be 8\")\n",
    "    length=False\n",
    "if u==True and l==True and d==True and length==True and special==True : \n",
    "    print(\"all cases verified\")\n",
    "else : \n",
    "    if u==False : \n",
    "        print(\"not uppercase\")\n",
    "    else : \n",
    "        print(\"uppercase\")\n",
    "    if l==False : \n",
    "        print(\"not lowercase\")\n",
    "    else : \n",
    "        print(\"lowercase\")\n",
    "    if d==True : \n",
    "        print(\"digit are available\")\n",
    "    else : \n",
    "        print(\"digit are not available\")\n",
    "    if special==False : \n",
    "        print(\"not special characters\")\n",
    "    else : \n",
    "        print(\"special characters available\")"
   ]
  },
  {
   "cell_type": "markdown",
   "metadata": {},
   "source": [
    "# PB465"
   ]
  },
  {
   "cell_type": "code",
   "execution_count": 34,
   "metadata": {},
   "outputs": [
    {
     "name": "stdout",
     "output_type": "stream",
     "text": [
      "{'dog': 2, 'the': 2, 'quick': 1, 'brown': 1, 'fox': 1, 'jumps': 1, 'over': 1, 'lazy': 1}\n"
     ]
    }
   ],
   "source": [
    "s=input(\"enter a string: \")\n",
    "l=s.split()\n",
    "d={}\n",
    "for i in l:\n",
    "    d[i.lower()]=d.get(i,0)+1\n",
    "print(d)"
   ]
  },
  {
   "cell_type": "markdown",
   "metadata": {},
   "source": [
    "# PB466"
   ]
  },
  {
   "cell_type": "code",
   "execution_count": 38,
   "metadata": {},
   "outputs": [
    {
     "name": "stdout",
     "output_type": "stream",
     "text": [
      "all cases verified\n",
      "200\n",
      "two hundred \n"
     ]
    }
   ],
   "source": [
    "str=input(\"enter your password to validate : \")\n",
    "u=False\n",
    "l=False\n",
    "d=0\n",
    "list1=[]\n",
    "special=False\n",
    "if len(str)>=8 and len(str)<=15 :\n",
    "    for i in str : \n",
    "        if i.isupper() :\n",
    "            u=True\n",
    "        elif i.islower() : \n",
    "            l=True\n",
    "        elif i.isdigit() : \n",
    "            list1.append(int(i))\n",
    "            d+=1\n",
    "        elif i=='_' or i=='#' or i=='*' :\n",
    "            special=True\n",
    "else : \n",
    "    print(\"length of password must be 8\")\n",
    "if u==True and l==True and (d>0 and d<4) and special==True : \n",
    "    print(\"all cases verified\")\n",
    "else : \n",
    "    if u==False : \n",
    "        print(\"not uppercase\")\n",
    "    else : \n",
    "        print(\"uppercase\")\n",
    "    if l==False : \n",
    "        print(\"not lowercase\")\n",
    "    else : \n",
    "        print(\"lowercase\")\n",
    "    if (d>0 and d<4) : \n",
    "        print(\"digits are available\")\n",
    "    else : \n",
    "        print(\"invalid no of digits are available\")\n",
    "    if special==False : \n",
    "        print(\"not special characters\")\n",
    "    else : \n",
    "        print(\"special characters available\")\n",
    "index=len(list1)-1\n",
    "for i in range(len(list1)) : \n",
    "    num+= list1[i] * (10**index)\n",
    "    index-=1\n",
    "print(num)\n",
    "\n",
    "\n",
    "\n",
    "if num<=999 : \n",
    "\n",
    "    list=['','ten','twenty','thirty','fourty','fifty','sixty','seventy','eieghty','ninty']\n",
    "    text=['','one','two','three','four','five','six','seven','eieght','nine','ten','eleven','twelve','thirteen','fourteen','fifteen','sixteen','seventeen','eieghteen','nineteen']\n",
    "    if num>99 and num<=999 : \n",
    "        r=num//100\n",
    "        temp=num%100\n",
    "        ans=''\n",
    "        if temp<=19 : \n",
    "            ans=text[temp]\n",
    "        elif temp<=99 : \n",
    "            ans=list[temp//10]+' '+text[temp%10]\n",
    "        print(text[r]+' hundred '+ans)\n",
    "    elif num<=99 and num>=0 : \n",
    "        if num==0 :\n",
    "            print('zero')\n",
    "        elif num<=19 : \n",
    "            print(text[num])\n",
    "        elif num<=99 : \n",
    "            print(list[num//10]+' '+text[num%10])\n",
    "        else : \n",
    "            print('enter a correct number.')\n"
   ]
  },
  {
   "cell_type": "markdown",
   "metadata": {},
   "source": [
    "# PB467"
   ]
  },
  {
   "cell_type": "code",
   "execution_count": 181,
   "metadata": {},
   "outputs": [
    {
     "name": "stdout",
     "output_type": "stream",
     "text": [
      "count= 3\n"
     ]
    }
   ],
   "source": [
    "L=['abc','xyz','aba','2112','123451','12345']\n",
    "count = 0\n",
    "for string in L:\n",
    "    if len(string) >= 3 and string[0] == string[-1]:\n",
    "        count += 1\n",
    "print(\"count=\",count)"
   ]
  },
  {
   "cell_type": "markdown",
   "metadata": {},
   "source": [
    "# PB468"
   ]
  },
  {
   "cell_type": "code",
   "execution_count": null,
   "metadata": {},
   "outputs": [
    {
     "name": "stdout",
     "output_type": "stream",
     "text": [
      "Original List: [5, 5, 2, 5, 8]\n",
      "index to be removed is:  0\n",
      "List after removing index  0 is  [5, 2, 5, 8]\n",
      "index to be removed is:  1\n",
      "List after removing index  1 is  [5, 2, 5, 8]\n",
      "Total Number of Special elements: 2\n"
     ]
    }
   ],
   "source": [
    "l=eval(input(\"enter list\"))\n",
    "print(\"Original List:\",l)\n",
    "count=0\n",
    "for i in range(0,len(l)):\n",
    "    c=l.copy()\n",
    "    c.pop(i)\n",
    "    sum1=sum(c[0::2])\n",
    "    sum2=sum(c[1::2])\n",
    "    if sum1==sum2:\n",
    "        print(\"index to be removed is: \",i)\n",
    "        count+=1\n",
    "        print(\"List after removing index \",i,\"is \",c)\n",
    "print(\"Total Number of Special elements:\",count)"
   ]
  },
  {
   "cell_type": "markdown",
   "metadata": {},
   "source": [
    "# PB469"
   ]
  },
  {
   "cell_type": "code",
   "execution_count": 40,
   "metadata": {},
   "outputs": [
    {
     "name": "stdout",
     "output_type": "stream",
     "text": [
      "{'d': ['Don’t'], 'w': ['wait', 'will'], 'f': ['for', 'Feelings', 'feelings'], 'y': ['your', 'your'], 't': ['to', 'to', 'take', 'the', 'Take', 'the'], 'c': ['change', 'change'], 'a': ['action.', 'action', 'and']}\n"
     ]
    }
   ],
   "source": [
    "s=input(\"enter your String : \")\n",
    "d={}\n",
    "list=s.split(' ')\n",
    "for i in list : \n",
    "    j=i[0].lower()\n",
    "    if j not in d.keys() : \n",
    "        d[j]=[]\n",
    "        d[j].append(i)\n",
    "    else : \n",
    "        d[j].append(i)\n",
    "print(d)"
   ]
  },
  {
   "cell_type": "markdown",
   "metadata": {},
   "source": [
    "# PB470"
   ]
  },
  {
   "cell_type": "code",
   "execution_count": null,
   "metadata": {},
   "outputs": [],
   "source": [
    "## Question - 3\n",
    "def password_check(password):\n",
    "  l, u, p, d = 0, 0, 0, 0\n",
    "  if (len(password) >= 8 and len(password) <= 15):\n",
    "    for i in password:\n",
    "   # counting lowercase alphabets\n",
    "      if (i.islower()):\n",
    "        l+=1\n",
    "      # counting uppercase alphabets\n",
    "      if (i.isupper()):\n",
    "        u+=1\n",
    "        # counting digits\n",
    "      if (i.isdigit()):\n",
    "        d+=1\n",
    "        # counting the mentioned special characters\n",
    "      if(i=='@'or i=='$' or i=='_'):\n",
    "        p+=1\n",
    "      if (l>=1 and u>=1 and p>=1 and d>=1 and l+p+u+d==len(password)):\n",
    "        return True\n",
    "      else:\n",
    "        return False\n",
    "  else:\n",
    "      return False\n",
    "d={\"student0\":'Student@0',\"student1\":'Student@11',\"student2\":'Student@121',\"student3\":'Student@052',\"student4\":'Student@01278',\n",
    "\"student5\":'Student@0125', \"student6\":'Student@042',\"student7\":'Student@07800',\"student8\":'Student@012',\n",
    "\"student9\":'Student@04789'}\n",
    "first_password_username_count=0\n",
    "s=\"\"\n",
    "while first_password_username_count<3:\n",
    "  if s==\"stop\":\n",
    "    break\n",
    "  username=input(\"enter correct username:\")\n",
    "  password=input(\"enter correct password:\")\n",
    "  if ((username not in d.keys()) or (d[username]!=password)):\n",
    "    print(\"enter correct username and password\")\n",
    "    first_password_username_count+=1\n",
    "    continue\n",
    "  else:\n",
    "    #update password\n",
    "    update_count=0\n",
    "    while(update_count<3):\n",
    "      update_password=input(\"enter update password: \")\n",
    "      #print(password_check(update_password))\n",
    "      if password_check(update_password):\n",
    "        d[username]=update_password\n",
    "        s=\"stop\"\n",
    "        break\n",
    "      else:\n",
    "        update_count+=1\n",
    "        print(\"follow the password format\")\n",
    "        continue\n",
    "    else:\n",
    "      print(\"try after 24h\")\n",
    "      s=\"stop\"\n",
    "      break\n",
    "else:\n",
    "  print(\"try after 24h\")\n",
    "print(d)\n",
    "#Find and print longest and shortest password with its username\n",
    "sorted_list=sorted(d.items(),key=lambda x:len(x[1]))\n",
    "print(\"the username and password according to ascending order of password length\")\n",
    "for i,j in sorted_list:\n",
    "  print(i,\":\",j)"
   ]
  },
  {
   "cell_type": "markdown",
   "metadata": {},
   "source": [
    "# PB471"
   ]
  },
  {
   "cell_type": "code",
   "execution_count": 8,
   "metadata": {},
   "outputs": [
    {
     "name": "stdout",
     "output_type": "stream",
     "text": [
      "[1, 2, 13, 3, 4, 13, 5]\n",
      "7\n"
     ]
    }
   ],
   "source": [
    "l=eval(input(\"enter list\"))\n",
    "print(l)\n",
    "sum=0\n",
    "i=0\n",
    "while i<len(l) : \n",
    "    if l[i]!=13 : \n",
    "        sum+=l[i]\n",
    "        i+=1\n",
    "    else : \n",
    "        i+=2\n",
    "print(sum)"
   ]
  },
  {
   "cell_type": "markdown",
   "metadata": {},
   "source": [
    "# PB472"
   ]
  },
  {
   "cell_type": "code",
   "execution_count": 133,
   "metadata": {},
   "outputs": [
    {
     "name": "stdout",
     "output_type": "stream",
     "text": [
      "Shifted List: [4, 5, 1, 2, 3]\n"
     ]
    }
   ],
   "source": [
    "lst = [1,2,3,4,5]\n",
    "shift = int(input(\"Enter the number of positions to shift: \"))\n",
    "\n",
    "shift = shift % len(lst)\n",
    "\n",
    "shifted_list = lst[shift:] + lst[:shift]\n",
    "\n",
    "print(\"Shifted List:\", shifted_list)\n"
   ]
  }
 ],
 "metadata": {
  "kernelspec": {
   "display_name": "Python 3",
   "language": "python",
   "name": "python3"
  },
  "language_info": {
   "codemirror_mode": {
    "name": "ipython",
    "version": 3
   },
   "file_extension": ".py",
   "mimetype": "text/x-python",
   "name": "python",
   "nbconvert_exporter": "python",
   "pygments_lexer": "ipython3",
   "version": "3.13.0"
  }
 },
 "nbformat": 4,
 "nbformat_minor": 2
}
