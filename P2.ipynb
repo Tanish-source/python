{
 "cells": [
  {
   "cell_type": "markdown",
   "metadata": {},
   "source": [
    "# assigment operator\n"
   ]
  },
  {
   "cell_type": "code",
   "execution_count": null,
   "metadata": {},
   "outputs": [],
   "source": [
    "marks=int(input(\"enter your marks : \"))\n",
    "result= 'pass' if marks>35 else 'Fail'\n",
    "print(result)"
   ]
  },
  {
   "cell_type": "code",
   "execution_count": null,
   "metadata": {},
   "outputs": [],
   "source": [
    "name=input(\"enter your name : \")"
   ]
  },
  {
   "cell_type": "code",
   "execution_count": null,
   "metadata": {},
   "outputs": [],
   "source": [
    "type(input())"
   ]
  },
  {
   "cell_type": "code",
   "execution_count": null,
   "metadata": {},
   "outputs": [],
   "source": [
    "a = eval(input(\"enter a number : \"))"
   ]
  },
  {
   "cell_type": "code",
   "execution_count": null,
   "metadata": {},
   "outputs": [],
   "source": [
    "type(a)"
   ]
  },
  {
   "cell_type": "code",
   "execution_count": null,
   "metadata": {},
   "outputs": [],
   "source": [
    "print('the sum of : ',int(input(\"enter value of a : \"))+int(input(\"enter value of b : \")))"
   ]
  },
  {
   "cell_type": "code",
   "execution_count": null,
   "metadata": {},
   "outputs": [],
   "source": [
    "a,b,c=10,20,30\n",
    "print(a,b,c)\n",
    "print(a,b,c,sep='/')\n",
    "print(a,end=' ')\n",
    "print(b,end=' ')\n",
    "print(c)\n",
    "print(\"the value of a is : {}\\nthe value of b is : {}\\nthe value of c is : {}\".format(a,b,c))\n",
    "print()\n",
    "print(\"the value of a is : {2}\\nthe value of b is : {1}\\nthe value of c is : {0}\".format(a,b,c))\n",
    "print()\n",
    "print(\"the value of a is : {z}\\nthe value of b is : {x}\\nthe value of c is : {y} \".format(x=a,y=b,z=c))\n",
    "print()\n",
    "print(f\"the value of a is : {a}\\nthe value of b is : {b}\\nthe value of c is : {c} \")"
   ]
  },
  {
   "cell_type": "markdown",
   "metadata": {},
   "source": [
    "# Multiline Comment"
   ]
  },
  {
   "cell_type": "code",
   "execution_count": null,
   "metadata": {},
   "outputs": [],
   "source": [
    "'''d\n",
    "sjvsjhvbzjkfvbdfhjfb\n",
    "fgjkhsfjvgbsdfv\n",
    "djvdhfbvdfjk\n",
    "dfvbhdjfhghdfgjhfjhdfhvbdfbvdhfbvjzdhbdhfbsdfu'''"
   ]
  },
  {
   "cell_type": "markdown",
   "metadata": {},
   "source": [
    "# Binary Storage"
   ]
  },
  {
   "cell_type": "code",
   "execution_count": null,
   "metadata": {},
   "outputs": [],
   "source": [
    "a=0b1010\n",
    "print(a)"
   ]
  },
  {
   "cell_type": "markdown",
   "metadata": {},
   "source": [
    "# Octal Storage"
   ]
  },
  {
   "cell_type": "raw",
   "metadata": {},
   "source": [
    "b=0o3501\n",
    "print(b)"
   ]
  },
  {
   "cell_type": "markdown",
   "metadata": {},
   "source": [
    "# Hexa Storage"
   ]
  },
  {
   "cell_type": "code",
   "execution_count": null,
   "metadata": {},
   "outputs": [],
   "source": [
    "c=0xface\n",
    "print(c)"
   ]
  },
  {
   "cell_type": "markdown",
   "metadata": {},
   "source": [
    "# Q1 : wap to find area and surcamp france of a circle created by the apexes of a triangle which is equilitral having 5 cm size "
   ]
  },
  {
   "cell_type": "code",
   "execution_count": 3,
   "metadata": {},
   "outputs": [
    {
     "name": "stdout",
     "output_type": "stream",
     "text": [
      "area of circle :  10.882796185405308\n",
      "area of circle : 10.8828\n"
     ]
    }
   ],
   "source": [
    "import math\n",
    "side=int(input(\"enter sides of triangle to get area of a circle : \"))\n",
    "ac=side\n",
    "bc=side/2\n",
    "bd=math.sqrt((ac**2)-(bc**2))\n",
    "radius=(bd/3)*2\n",
    "d=radius*2\n",
    "print('area of circle : ',math.pi*radius*2)\n",
    "print(f'area of circle : {math.pi*d:0.4f}')"
   ]
  },
  {
   "cell_type": "markdown",
   "metadata": {},
   "source": [
    "# Q2 : wap to convert the given days into year month and days"
   ]
  },
  {
   "cell_type": "code",
   "execution_count": null,
   "metadata": {},
   "outputs": [],
   "source": [
    "day=int(input(\"enter your days : \"))\n",
    "# year=int(day/365)\n",
    "# print(year)\n",
    "# month=int((day-(year*365))/30)\n",
    "# print(month)\n",
    "# days=int(day-((365*year)+(30*month)))\n",
    "# print(days)\n",
    "print(day//365,\"years\",(day%365)//30,\"month\",day%365%30,\"days\")"
   ]
  },
  {
   "cell_type": "markdown",
   "metadata": {},
   "source": [
    "# Q3 : wap to find total no of currency notes use to purchase a product of x amount"
   ]
  },
  {
   "cell_type": "code",
   "execution_count": 7,
   "metadata": {},
   "outputs": [
    {
     "name": "stdout",
     "output_type": "stream",
     "text": [
      "enter your amount : 1200\n",
      "2  \n",
      "1  \n",
      "0  \n",
      "0  \n",
      "0  \n",
      "0\n"
     ]
    }
   ],
   "source": [
    "# 500 200 100 50 20 10\n",
    "amount=int(input(\"enter your amount : \"))\n",
    "# _500=amount//500\n",
    "# _200=(amount%500)//200\n",
    "# _100=(amount%500%200)//100\n",
    "# _50=(amount%500%200%100)//50\n",
    "# _20=(amount%500%200%100%50)//20\n",
    "# _10=(amount%500%200%100%50%20)//10\n",
    "# print(_500+_200+_100+_50+_20+_10)\n",
    "_500=amount//500\n",
    "print(_500,' ')\n",
    "_500=(amount%500)//200\n",
    "print(_500,' ')\n",
    "_500=(amount%500%200)//100\n",
    "print(_500,' ')\n",
    "_500=(amount%500%200%100)//50\n",
    "print(_500,' ')\n",
    "_500=(amount%500%200%100%50)//20\n",
    "print(_500,' ')\n",
    "_500=(amount%500%200%100%50%20)//10\n",
    "print(_500)"
   ]
  },
  {
   "cell_type": "markdown",
   "metadata": {},
   "source": [
    "# Conditional Statement"
   ]
  },
  {
   "cell_type": "code",
   "execution_count": 17,
   "metadata": {},
   "outputs": [
    {
     "name": "stdout",
     "output_type": "stream",
     "text": [
      "false\n",
      "kadi\n"
     ]
    }
   ],
   "source": [
    "if 10>20 :\n",
    "    print('true')\n",
    "else:\n",
    "    print('false')\n",
    "print('kadi')  "
   ]
  },
  {
   "cell_type": "code",
   "execution_count": 21,
   "metadata": {},
   "outputs": [
    {
     "name": "stdout",
     "output_type": "stream",
     "text": [
      "enter a number : 10\n",
      "it is a Double digit number.\n"
     ]
    }
   ],
   "source": [
    "num=int(input(\"enter a number : \"))\n",
    "if num>=0 and num<10 :\n",
    "    print('it is a single digit number.')\n",
    "elif num>9 and num<100:\n",
    "    print('it is a Double digit number.')\n",
    "else :\n",
    "    print('it is a three or more digit number.')"
   ]
  },
  {
   "cell_type": "markdown",
   "metadata": {},
   "source": [
    "# wap to find the maximum of any three user define integers "
   ]
  },
  {
   "cell_type": "code",
   "execution_count": 27,
   "metadata": {},
   "outputs": [
    {
     "name": "stdout",
     "output_type": "stream",
     "text": [
      "enter num 1 : 2\n",
      "enter num 2 : 2\n",
      "enter num 3 : 2\n",
      "all are equal\n"
     ]
    }
   ],
   "source": [
    "num1=int(input(\"enter num 1 : \")) \n",
    "num2=int(input(\"enter num 2 : \")) \n",
    "num3=int(input(\"enter num 3 : \")) \n",
    "if num1>num2 and num1>num3 :\n",
    "    print(num1, \" is greater\")\n",
    "elif num2>num1 and num2>num3 :\n",
    "    print(num2, \" is greater\")\n",
    "elif num3>num1 and num3>num2 :\n",
    "    print(num2, \" is greater\")\n",
    "else :\n",
    "    print(\"all are equal\")"
   ]
  },
  {
   "cell_type": "markdown",
   "metadata": {},
   "source": [
    "# wap to find a electricity bill of a household for the following critaria"
   ]
  },
  {
   "cell_type": "code",
   "execution_count": 33,
   "metadata": {},
   "outputs": [
    {
     "name": "stdout",
     "output_type": "stream",
     "text": [
      "enter your units : 300\n",
      "your bill is :  1500\n"
     ]
    }
   ],
   "source": [
    "units=int(input(\"enter your units : \"))\n",
    "bill=0\n",
    "if units<=100 :\n",
    "    print('your bill is : 0')\n",
    "elif units>100 and units<=200 :\n",
    "    print('your bill is : ',(units-100)*5)\n",
    "elif units>200 :\n",
    "    print('your bill is : ',500+((units-200)*10))"
   ]
  },
  {
   "cell_type": "markdown",
   "metadata": {},
   "source": [
    "# find the total package offer by a company to an employee based on following criteriaalso calculate the CGPA of the students."
   ]
  },
  {
   "cell_type": "code",
   "execution_count": 43,
   "metadata": {},
   "outputs": [
    {
     "name": "stdout",
     "output_type": "stream",
     "text": [
      "enter marks of subjetc 1 : 70\n",
      "enter marks of subjetc 2 : 70\n",
      "enter marks of subjetc 3 : 60\n",
      "CGPA : 6.67\n",
      "package :  7000\n",
      "CTC :  8400.0\n"
     ]
    }
   ],
   "source": [
    "a=int(input(\"enter marks of subjetc 1 : \"))\n",
    "b=int(input(\"enter marks of subjetc 2 : \"))\n",
    "c=int(input(\"enter marks of subjetc 3 : \"))\n",
    "CGPA=(a+b+c)/30\n",
    "basic=0\n",
    "salary=0\n",
    "print(f'CGPA : {CGPA:0.2f}')\n",
    "if CGPA>8.5 :\n",
    "    basic=25000\n",
    "    salary=basic+(basic*0.1)+(basic*0.07)+(basic*0.05)\n",
    "elif CGPA>7.1 and CGPA<8.5 :\n",
    "    basic=15000\n",
    "    salary=basic+(basic*0.1)+(basic*0.07)+(basic*0.05)\n",
    "elif CGPA>5.5 and CGPA<7.0 :\n",
    "    basic=7000\n",
    "    salary=basic+(basic*0.1)+(basic*0.05)+(basic*0.05)\n",
    "else :\n",
    "    basic=5000\n",
    "    salary=basic+(basic*0.1)+(basic*0.05)+(basic*0.05)\n",
    "print(\"package : \",basic)\n",
    "print(\"CTC : \",salary)"
   ]
  },
  {
   "cell_type": "markdown",
   "metadata": {},
   "source": [
    "# wap to find wether the entered year is leap year of not"
   ]
  },
  {
   "cell_type": "code",
   "execution_count": 48,
   "metadata": {},
   "outputs": [
    {
     "name": "stdout",
     "output_type": "stream",
     "text": [
      "enter a year : 2000\n",
      "entered year is a leap year.\n"
     ]
    }
   ],
   "source": [
    "year=int(input(\"enter a year : \"))\n",
    "if (year%4==0 and year%100!=0) or (year%400==0) :\n",
    "    print(\"entered year is a leap year.\")\n",
    "else :\n",
    "     print(\"entered year is not a leap year.\")"
   ]
  },
  {
   "cell_type": "markdown",
   "metadata": {},
   "source": [
    "# wap to find the next day for any user defined day"
   ]
  },
  {
   "cell_type": "code",
   "execution_count": 66,
   "metadata": {},
   "outputs": [
    {
     "name": "stdout",
     "output_type": "stream",
     "text": [
      "enter year : 20254\n",
      "enter month : 4\n",
      "enter day : 31\n",
      "Invalid days\n"
     ]
    }
   ],
   "source": [
    "year=int(input(\"enter year : \"))\n",
    "month=int(input(\"enter month : \"))\n",
    "day=int(input(\"enter day : \"))\n",
    "b=True\n",
    "if (month==2) and ((year%4==0 and year%100!=0) or (year%400==0)) :\n",
    "    if(day>=1 and day<=29) :\n",
    "        if(day==29) :\n",
    "            month+=1\n",
    "            day=1\n",
    "        else :\n",
    "            day+=1\n",
    "    else :\n",
    "        print(\"Invalid days\")\n",
    "        b=False\n",
    "else :\n",
    "    if month==12 :\n",
    "        if(day>=1 and day<=31) :\n",
    "            if(day==31) :\n",
    "                month=1\n",
    "                day=1\n",
    "                year+=1\n",
    "            else :\n",
    "                day+=1\n",
    "        else :\n",
    "            print(\"Invalid days\")\n",
    "            b=False\n",
    "    elif (month==1 or month==3 or month==5 or month==7 or month==8 or month==10 or month==12) :\n",
    "        if(day>=1 and day<=31) :\n",
    "            if(day==31) :\n",
    "                month+=1\n",
    "                day=1\n",
    "            else :\n",
    "                day+=1\n",
    "        else :\n",
    "            print(\"Invalid days\")\n",
    "            b=False\n",
    "    elif (month==2 or month==4 or month==6 or month==9 or month==11) :\n",
    "        if(day>=1 and day<=30) :\n",
    "            if(day==30) :\n",
    "                month+=1\n",
    "                day=1\n",
    "            else :\n",
    "                day+=1\n",
    "        else :\n",
    "            print(\"Invalid days\")\n",
    "            b=False\n",
    "    else :\n",
    "        print(\"Invalid days.\")\n",
    "        b=False\n",
    "if b==True :\n",
    "    print(day,\"/\",month,\"/\",year)"
   ]
  }
 ],
 "metadata": {
  "kernelspec": {
   "display_name": "Python 3",
   "language": "python",
   "name": "python3"
  },
  "language_info": {
   "codemirror_mode": {
    "name": "ipython",
    "version": 3
   },
   "file_extension": ".py",
   "mimetype": "text/x-python",
   "name": "python",
   "nbconvert_exporter": "python",
   "pygments_lexer": "ipython3",
   "version": "3.13.0"
  }
 },
 "nbformat": 4,
 "nbformat_minor": 4
}
